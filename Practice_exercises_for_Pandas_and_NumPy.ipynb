{
  "cells": [
    {
      "cell_type": "markdown",
      "metadata": {
        "id": "9fe7273d"
      },
      "source": [
        "## Outlines\n",
        "\n",
        "- Creating Arrays\n",
        "- Initial Placeholders\n",
        "- Array Inspection\n",
        "- Array Mathematics\n",
        "- Array Manipulation\n",
        "- DataFrame\n",
        "- Selecting, Boolean Indexing & Setting\n",
        "- Dropping\n",
        "- Retrieving DataFrame Information\n"
      ],
      "id": "9fe7273d"
    },
    {
      "cell_type": "markdown",
      "metadata": {
        "id": "3bfe0c94"
      },
      "source": [
        "# Pandas and Numpy"
      ],
      "id": "3bfe0c94"
    },
    {
      "cell_type": "markdown",
      "metadata": {
        "id": "b9c397ee"
      },
      "source": [
        "## Problem 1\n",
        "\n",
        "#### Write a NumPy program to test whether each element of a 1-D array is also present in a second array.\n",
        "#### Expected Output:\n",
        "#### Array1: [ 0 10 20 40 60]\n",
        "#### Array2: [0, 40]\n",
        "#### Compare each element of array1 and array2\n",
        "#### Output: [ True False False True False]"
      ],
      "id": "b9c397ee"
    },
    {
      "cell_type": "code",
      "execution_count": null,
      "metadata": {
        "colab": {
          "base_uri": "https://localhost:8080/"
        },
        "id": "09271c3e",
        "outputId": "e07ca836-a543-40f6-f41c-73fd6b95e3a8"
      },
      "outputs": [
        {
          "output_type": "stream",
          "name": "stdout",
          "text": [
            "Array1:  [ 0 10 20 40 60]\n",
            "Array2:  [ 0 40]\n",
            "Compare each element of array1 and array2\n",
            "Output:  [ True False False  True False]\n"
          ]
        }
      ],
      "source": [
        "import numpy as np\n",
        "arr1= np.array([0,10,20,40,60])\n",
        "print(\"Array1: \", arr1)\n",
        "arr2= np.array([0,40])\n",
        "print(\"Array2: \", arr2)\n",
        "print(\"Compare each element of array1 and array2\")\n",
        "print(\"Output: \", np.in1d(arr1,arr2))"
      ],
      "id": "09271c3e"
    },
    {
      "cell_type": "markdown",
      "metadata": {
        "id": "80025289"
      },
      "source": [
        "## Problem 2\n",
        "#### Write a NumPy program to get the unique elements of an array\n",
        "#### Expected Output:\n",
        "#### Original array:\n",
        "#### [10 10 20 20 30 30]\n",
        "#### Unique elements of the above array:\n",
        "#### [10 20 30]\n",
        "#### Original array:\n",
        "#### [[1 1]\n",
        "#### [2 3]]\n",
        "#### Unique elements of the above array:\n",
        "#### [1 2 3]"
      ],
      "id": "80025289"
    },
    {
      "cell_type": "code",
      "execution_count": null,
      "metadata": {
        "colab": {
          "base_uri": "https://localhost:8080/"
        },
        "id": "e3b40f43",
        "outputId": "9052a32f-30bf-4c69-fb84-7e9cab0b5f01"
      },
      "outputs": [
        {
          "name": "stdout",
          "output_type": "stream",
          "text": [
            "\u001b[1mOriginal array:\n",
            " \n",
            " [10 10 20 20 30 30] \n",
            "\n",
            "Unique elements of the above array:\n",
            " \n",
            "  [10 20 30]\n",
            "\n",
            "Original array:\n",
            " \n",
            " [[1 1]\n",
            " [2 3]] \n",
            "\n",
            "Unique elements of the above array:\n",
            " \n",
            "  [1 2 3]\n",
            "\n"
          ]
        }
      ],
      "source": [
        "arr1 = np.array([10,10,20,20,30,30])\n",
        "print('\\033[1m'+\"Original array:\\n \\n\", arr1 , \"\\n\")\n",
        "print(\"Unique elements of the above array:\\n \\n \", str(np.unique(arr1))+\"\\n\")\n",
        "arr2 = np.array([[1, 1], [2, 3]])\n",
        "print(\"Original array:\\n \\n\", arr2 , \"\\n\")\n",
        "print(\"Unique elements of the above array:\\n \\n \", str(np.unique(arr2))+\"\\n\")"
      ],
      "id": "e3b40f43"
    },
    {
      "cell_type": "markdown",
      "metadata": {
        "id": "30dfb8cb"
      },
      "source": [
        "## Problem 3\n",
        "#### Write a NumPy program to sort an along the first, last axis of an array.\n",
        "#### Sample array: [[2,5],[4,4]]\n",
        "#### Expected Output:\n",
        "#### Original array:\n",
        "#### [[4 6]\n",
        "#### [2 1]]\n",
        "#### Sort along the first axis:\n",
        "#### [[2 1]\n",
        "#### [4 6]]\n",
        "#### Sort along the last axis:\n",
        "#### [[1 2]\n",
        "#### [4 6]]"
      ],
      "id": "30dfb8cb"
    },
    {
      "cell_type": "code",
      "execution_count": null,
      "metadata": {
        "colab": {
          "base_uri": "https://localhost:8080/"
        },
        "id": "3ffbb5df",
        "outputId": "3ce0dac0-2516-480e-f121-f8581e2e794f"
      },
      "outputs": [
        {
          "name": "stdout",
          "output_type": "stream",
          "text": [
            "Original array: \n",
            " \n",
            " [[4 6]\n",
            " [2 1]] \n",
            "\n",
            "Sort along the first axis: \n",
            " \n",
            " [[2 1]\n",
            " [4 6]] \n",
            "\n",
            "Sort along the last axis:\n",
            " \n",
            " [[4 6]\n",
            " [1 2]]\n"
          ]
        }
      ],
      "source": [
        "arr1 = np.array([[4, 6],[2, 1]])\n",
        "print(\"Original array: \\n \\n\", arr1,\"\\n\" )\n",
        "print(\"Sort along the first axis: \\n \\n\",np.sort(arr1, axis=0),\"\\n\")\n",
        "print(\"Sort along the last axis:\\n \\n\",np.sort(arr1, axis=1))"
      ],
      "id": "3ffbb5df"
    },
    {
      "cell_type": "markdown",
      "metadata": {
        "id": "972e1237"
      },
      "source": [
        "## Problem 4\n",
        "#### Write a NumPy program to count the occurrence of a specified item in a given NumPy array.\n",
        "#### Sample Output:\n",
        "#### Original array:\n",
        "#### [10 20 20 20 20 0 20 30 30 30 0 0 20 20 0]\n",
        "#### [4,1,7,3]"
      ],
      "id": "972e1237"
    },
    {
      "cell_type": "code",
      "execution_count": null,
      "metadata": {
        "colab": {
          "base_uri": "https://localhost:8080/"
        },
        "id": "52243fd8",
        "outputId": "df281075-c461-4702-888e-caa7d4511d7c"
      },
      "outputs": [
        {
          "name": "stdout",
          "output_type": "stream",
          "text": [
            "Original array:\n",
            " [10 20 20 20 20  0 20 30 30 30  0  0 20 20  0] \n",
            "\n",
            " [4, 1, 7, 3]\n"
          ]
        }
      ],
      "source": [
        "arr = np.array([10,20, 20, 20, 20 ,0, 20 ,30 ,30, 30, 0, 0, 20, 20, 0])\n",
        "print(\"Original array:\\n\" ,arr,\"\\n\")\n",
        "count_list = [np.count_nonzero(arr == 0),np.count_nonzero(arr == 10),np.count_nonzero(arr == 20),np.count_nonzero(arr == 30)]\n",
        "print(\"\",count_list)"
      ],
      "id": "52243fd8"
    },
    {
      "cell_type": "markdown",
      "metadata": {
        "id": "95f5fcf8"
      },
      "source": [
        "## Problem 5\n",
        "#### Write a NumPy program to remove nan values from a given array.\n",
        "#### Sample Output:\n",
        "#### Original array:\n",
        "#### [200. 300. nan nan nan 700.]\n",
        "#### After removing nan values:\n",
        "#### [200. 300. 700.]"
      ],
      "id": "95f5fcf8"
    },
    {
      "cell_type": "code",
      "execution_count": null,
      "metadata": {
        "colab": {
          "base_uri": "https://localhost:8080/"
        },
        "id": "82efca10",
        "outputId": "2de43ded-7ce5-47ac-da21-170ed53c6a81"
      },
      "outputs": [
        {
          "name": "stdout",
          "output_type": "stream",
          "text": [
            " Original array:\n",
            "\n",
            " [200. 300.  nan  nan  nan 700.] \n",
            "\n",
            " After removing nan values:\n",
            " \n",
            " [200. 300. 700.]\n"
          ]
        }
      ],
      "source": [
        "### Write Your Code Here ###\n",
        "arr1 = np.array([200., 300., np.nan ,np.nan ,np.nan, 700.])\n",
        "print(\" Original array:\\n\\n\", arr1,\"\\n\")\n",
        "arr1 = arr1[~np.isnan(arr1)]\n",
        "print(\" After removing nan values:\\n \\n\", arr1)\n",
        "\n"
      ],
      "id": "82efca10"
    },
    {
      "cell_type": "markdown",
      "metadata": {
        "id": "d5bca96c"
      },
      "source": [
        "## Problem 6\n",
        "#### Write a NumPy program to calculate percentiles for a sequence or single-dimensional NumPy array.\n",
        "#### Sample Output:\n",
        "#### 50th percentile (median):\n",
        "#### 3.0\n",
        "#### 40th percentile:\n",
        "#### 2.6\n",
        "#### 90th percentile:\n",
        "#### 4.6"
      ],
      "id": "d5bca96c"
    },
    {
      "cell_type": "code",
      "execution_count": null,
      "metadata": {
        "colab": {
          "base_uri": "https://localhost:8080/"
        },
        "id": "5eea8266",
        "outputId": "5a29351b-5740-4240-f302-707d13a87f95"
      },
      "outputs": [
        {
          "name": "stdout",
          "output_type": "stream",
          "text": [
            "50th percentile (median):\n",
            " \n",
            " 3.0 \n",
            "\n",
            "40th percentile:\n",
            " \n",
            " 2.6 \n",
            "\n",
            "90th percentile:\n",
            " \n",
            " 4.6 \n",
            "\n"
          ]
        }
      ],
      "source": [
        "### Write Your Code Here ###\n",
        "arr1 = np.array([1,2,3,4,5])\n",
        "print(\"50th percentile (median):\\n \\n\",np.percentile(arr1, 50),\"\\n\")\n",
        "print(\"40th percentile:\\n \\n\",np.percentile(arr1, 40),\"\\n\")\n",
        "print(\"90th percentile:\\n \\n\",np.percentile(arr1, 90),\"\\n\")"
      ],
      "id": "5eea8266"
    },
    {
      "cell_type": "markdown",
      "metadata": {
        "id": "ed27b631"
      },
      "source": [
        "## Problem 7\n",
        "#### Write a NumPy program to find indices of elements equal to zero in a NumPy array.\n",
        "#### Sample Output:\n",
        "#### Original array:\n",
        "#### [1 0 2 0 3 0 4 5 6 7 8]\n",
        "#### Indices of elements equal to zero of the said array:\n",
        "#### [1 3 5]"
      ],
      "id": "ed27b631"
    },
    {
      "cell_type": "code",
      "execution_count": null,
      "metadata": {
        "colab": {
          "base_uri": "https://localhost:8080/"
        },
        "id": "583c546a",
        "outputId": "744bc5e7-43ff-44c8-8211-2c8ea7cf2d68"
      },
      "outputs": [
        {
          "name": "stdout",
          "output_type": "stream",
          "text": [
            "Original array:\n",
            " \n",
            " [1 0 2 0 3 0 4 5 6 7 8] \n",
            "\n",
            "Indices of elements equal to zero of the said array:\n",
            " \n",
            "  [1 3 5]\n"
          ]
        }
      ],
      "source": [
        "### Write Your Program Here ###\n",
        "arr1 = np.array([1,0,2,0,3,0,4,5,6,7,8])\n",
        "print(\"Original array:\\n \\n\",arr1,\"\\n\")\n",
        "print(\"Indices of elements equal to zero of the said array:\\n \\n \",np.where(arr1 == 0)[0])\n"
      ],
      "id": "583c546a"
    },
    {
      "cell_type": "markdown",
      "metadata": {
        "id": "eebe09b9"
      },
      "source": [
        "## Problem 8\n",
        "\n",
        "#### Write a NumPy program to round elements of the array to the nearest integer, and then calculate the abslute value element wise.\n",
        "#### Sample Output:\n",
        "#### Original array:\n",
        "#### [-0.7 -1.5 -1.7 0.3 1.5 1.8 2. ]\n",
        "#### Round elements of the array to the nearest integer:\n",
        "#### [1. 2. 2. 0. 2. 2. 2.]"
      ],
      "id": "eebe09b9"
    },
    {
      "cell_type": "code",
      "execution_count": null,
      "metadata": {
        "colab": {
          "base_uri": "https://localhost:8080/"
        },
        "id": "ce5fe6b3",
        "outputId": "e9d6723d-3662-4ccd-87b2-954b8a49e63a"
      },
      "outputs": [
        {
          "name": "stdout",
          "output_type": "stream",
          "text": [
            " Original array:\n",
            " \n",
            " [-0.7 -1.5 -1.7  0.3  1.5  1.8  2. ] \n",
            "\n",
            " Round elements of the array to the nearest integer:\n",
            " \n",
            " [1. 2. 2. 0. 2. 2. 2.]\n"
          ]
        }
      ],
      "source": [
        "### Write Your Program Here ###\n",
        "arr = np.array([-0.7 ,-1.5, -1.7 ,0.3 ,1.5 ,1.8, 2. ])\n",
        "print(\" Original array:\\n \\n\",arr,\"\\n\")\n",
        "arr = np.rint(arr)\n",
        "print(\" Round elements of the array to the nearest integer:\\n \\n\",np.absolute(arr))"
      ],
      "id": "ce5fe6b3"
    },
    {
      "cell_type": "markdown",
      "metadata": {
        "id": "d1ce0e7b"
      },
      "source": [
        "## Problem 9\n",
        "#### Write a NumPy program to calculate the difference between neighboring elements, element-wise, and prepend [0, 0] and append[200] to a given array.\n",
        "#### Sample output:\n",
        "#### Original array:\n",
        "#### [1 3 5 7 0]\n",
        "#### Difference between neighboring elements, element-wise, and prepend [0, 0] and append[200] to the said array:\n",
        "#### [ 0 0 2 2 2 -7 200]\n",
        "#### Note:  difference between neighboring elements means: $out[i] = a[i+1] - a[i]$"
      ],
      "id": "d1ce0e7b"
    },
    {
      "cell_type": "code",
      "execution_count": null,
      "metadata": {
        "colab": {
          "base_uri": "https://localhost:8080/"
        },
        "id": "bb6a6fa2",
        "outputId": "c4471008-96ff-4f03-950e-558bb065b382"
      },
      "outputs": [
        {
          "name": "stdout",
          "output_type": "stream",
          "text": [
            " Original array:\n",
            " \n",
            " [1 3 5 7 0] \n",
            "\n",
            " Difference between neighboring elements, element-wise, and prepend [0, 0] and append[200] to the said array:\n",
            " \n",
            " [  0   0   2   2   2  -7 200]\n"
          ]
        }
      ],
      "source": [
        "### Write Your Code Here ###\n",
        "arr = np.array([1,3,5,7,0])\n",
        "print(\" Original array:\\n \\n\",arr,\"\\n\")\n",
        "arr = np.diff(arr)\n",
        "arr = np.insert(np.append(arr, 200), 0, [0, 0])\n",
        "print(\" Difference between neighboring elements, element-wise, and prepend [0, 0] and append[200] to the said array:\\n \\n\", arr)\n"
      ],
      "id": "bb6a6fa2"
    },
    {
      "cell_type": "markdown",
      "metadata": {
        "id": "4f3f15ba"
      },
      "source": [
        "## Problem 10\n",
        "#### Write a NumPy program to get the indices of the sorted elements of a given array.\n",
        "#### Expected Output:\n",
        "#### Original array:\n",
        "#### [1023 5202 6230 1671 1682 5241 4532]\n",
        "#### Indices of the sorted elements of a given array:\n",
        "#### [0 3 4 6 1 5 2]"
      ],
      "id": "4f3f15ba"
    },
    {
      "cell_type": "code",
      "execution_count": null,
      "metadata": {
        "colab": {
          "base_uri": "https://localhost:8080/"
        },
        "id": "e94b4236",
        "outputId": "0b288483-a6ec-40d4-f81c-79e74978eadf"
      },
      "outputs": [
        {
          "name": "stdout",
          "output_type": "stream",
          "text": [
            " Original array:\n",
            " \n",
            " [1023 5202 6230 1671 1682 5241 4532] \n",
            "\n",
            " Indices of the sorted elements of a given array:\n",
            " \n",
            " [0 3 4 6 1 5 2]\n"
          ]
        }
      ],
      "source": [
        "arr = np.array([1023, 5202 ,6230 ,1671, 1682, 5241, 4532])\n",
        "print(\" Original array:\\n \\n\",arr,\"\\n\")\n",
        "print(\" Indices of the sorted elements of a given array:\\n \\n\",np.argsort(arr))\n"
      ],
      "id": "e94b4236"
    },
    {
      "cell_type": "markdown",
      "metadata": {
        "id": "685a30dd"
      },
      "source": [
        "## Problem 11\n",
        "#### Write a NumPy program to partition a given array in a specified position and move all the smaller elements values to the left of the partition, and the remaining values to the right, in arbitrary order (based on random choice).\n",
        "#### Sample output:\n",
        "#### Original array:\n",
        "#### [ 70 50 20 30 -11 60 50 40]\n",
        "#### After partitioning on 4 the position:\n",
        "#### [-11 30 20 40 50 50 60 70]"
      ],
      "id": "685a30dd"
    },
    {
      "cell_type": "code",
      "execution_count": null,
      "metadata": {
        "colab": {
          "base_uri": "https://localhost:8080/"
        },
        "id": "27720142",
        "outputId": "9ec80a06-bd5b-46bc-a707-c31a26232003"
      },
      "outputs": [
        {
          "name": "stdout",
          "output_type": "stream",
          "text": [
            " Original array:\n",
            "\n",
            " [ 70  50  20  30 -11  60  50  40] \n",
            "\n",
            " After partitioning on 4 the position:\n",
            "\n",
            " [-11  30  20  40  50  50  60  70]\n"
          ]
        }
      ],
      "source": [
        "arr = np.array([70, 50, 20, 30, -11, 60, 50, 40])\n",
        "print(\" Original array:\\n\\n\",arr,\"\\n\")\n",
        "print(\" After partitioning on 4 the position:\\n\\n\",np.partition(arr, 4))\n"
      ],
      "id": "27720142"
    },
    {
      "cell_type": "markdown",
      "metadata": {
        "id": "56ead3a8"
      },
      "source": [
        "## Problem 12\n",
        "#### Compute the euclidean distance between two arrays a and b.\n",
        "\n",
        "#### Input:\n",
        "#### [1,2,3,4,5]\n",
        "#### [4,5,6,7,8]\n",
        "#### Euclidean distance is: 6.7082"
      ],
      "id": "56ead3a8"
    },
    {
      "cell_type": "code",
      "execution_count": null,
      "metadata": {
        "colab": {
          "base_uri": "https://localhost:8080/"
        },
        "id": "3af6863f",
        "outputId": "cf53ecde-0e86-4528-e68f-d188d5e1c4f3"
      },
      "outputs": [
        {
          "name": "stdout",
          "output_type": "stream",
          "text": [
            " Input:\n",
            " [1 2 3 4 5]\n",
            " [4 5 6 7 8]\n",
            " Euclidean distance is: 6.7082\n"
          ]
        }
      ],
      "source": [
        "a = np.array([1,2,3,4,5])\n",
        "print(\" Input:\\n\",a)\n",
        "b= np.array([4,5,6,7,8])\n",
        "print(\"\",b)\n",
        "dist = np.linalg.norm(a - b)\n",
        "print(\" Euclidean distance is:\",round(dist,4))"
      ],
      "id": "3af6863f"
    },
    {
      "cell_type": "markdown",
      "metadata": {
        "id": "65859ed2"
      },
      "source": [
        "## Problem 13\n",
        "#### Find all the peaks in a 1D numpy array a. Peaks are points surrounded by smaller values on both sides.\n",
        "\n",
        "#### Input:\n",
        "\n",
        "#### array([1, 3, 7, 1, 2, 6, 0, 1])\n",
        "\n",
        "#### Desired Output:\n",
        "\n",
        "#### array( [2, 5])\n",
        "#### where, 2 and 5 are the positions of peak values 7 and 6."
      ],
      "id": "65859ed2"
    },
    {
      "cell_type": "code",
      "execution_count": null,
      "metadata": {
        "colab": {
          "base_uri": "https://localhost:8080/"
        },
        "id": "29ba788f",
        "outputId": "a9f35d23-7ec4-472b-ad3a-bcf15d7f1653"
      },
      "outputs": [
        {
          "name": "stdout",
          "output_type": "stream",
          "text": [
            " Input:\n",
            "\n",
            " [1 3 7 1 2 6 0 1] \n",
            "\n",
            "Desired Output:\n",
            "\n",
            " [2 5]\n"
          ]
        }
      ],
      "source": [
        "arr = np.array([1, 3, 7, 1, 2, 6, 0, 1])\n",
        "print(\" Input:\\n\\n\",arr,\"\\n\")\n",
        "differ = np.diff(np.sign(np.diff(arr)))\n",
        "peaks = np.where(differ == -2)[0] + 1\n",
        "print(\"Desired Output:\\n\\n\",peaks)"
      ],
      "id": "29ba788f"
    },
    {
      "cell_type": "markdown",
      "metadata": {
        "id": "cb5de21c"
      },
      "source": [
        "## Problem 14\n",
        "#### Find the index of nth repetition of number i .\n",
        "#### Inputs\n",
        "#### array([1, 2, 1, 1, 3, 4, 3, 1, 1, 2, 1, 1, 2])\n",
        "#### n = 5 (from user)\n",
        "#### i = 1 (from user)\n",
        "#### Output\n",
        "#### 8"
      ],
      "id": "cb5de21c"
    },
    {
      "cell_type": "code",
      "execution_count": null,
      "metadata": {
        "colab": {
          "base_uri": "https://localhost:8080/"
        },
        "id": "d9334d6c",
        "outputId": "f6732051-1919-4fd1-819a-e72d04241e88"
      },
      "outputs": [
        {
          "name": "stdout",
          "output_type": "stream",
          "text": [
            "Inputs\n",
            " [1 2 1 1 3 4 3 1 1 2 1 1 2]\n",
            " n = 5\n",
            " i = 1\n",
            " Output\n",
            " 8\n"
          ]
        }
      ],
      "source": [
        "arr = np.array([1, 2, 1, 1, 3, 4, 3, 1, 1, 2, 1, 1, 2])\n",
        "print(\"Inputs\\n\", arr)\n",
        "n = int(input(\" n = \")) -1\n",
        "i=int(input(\" i = \"))\n",
        "a = np.where(arr==i)[0]\n",
        "print(\" Output\\n\",a[n])"
      ],
      "id": "d9334d6c"
    },
    {
      "cell_type": "markdown",
      "metadata": {
        "id": "93888fd4"
      },
      "source": [
        "## Problem 15\n",
        "### In order to solve this set of questions you will use the dataset in the relative directory ./Datasets/tmdb_5000_movies.csv\n"
      ],
      "id": "93888fd4"
    },
    {
      "cell_type": "code",
      "execution_count": null,
      "metadata": {
        "colab": {
          "base_uri": "https://localhost:8080/"
        },
        "id": "3jKdZXk3sxBw",
        "outputId": "22d173a4-650d-4019-9122-79ca666d884d"
      },
      "outputs": [
        {
          "output_type": "stream",
          "name": "stdout",
          "text": [
            "Mounted at /content/drive\n"
          ]
        }
      ],
      "source": [
        "from google.colab import drive\n",
        "drive.mount('/content/drive')"
      ],
      "id": "3jKdZXk3sxBw"
    },
    {
      "cell_type": "code",
      "execution_count": null,
      "metadata": {
        "colab": {
          "base_uri": "https://localhost:8080/",
          "height": 1000
        },
        "id": "d5b09cac",
        "outputId": "51526808-9ccf-4715-c3c5-a63a58d901da"
      },
      "outputs": [
        {
          "output_type": "execute_result",
          "data": {
            "text/plain": [
              "      budget                                             genres  \\\n",
              "0  237000000  [{\"id\": 28, \"name\": \"Action\"}, {\"id\": 12, \"nam...   \n",
              "1  300000000  [{\"id\": 12, \"name\": \"Adventure\"}, {\"id\": 14, \"...   \n",
              "2  245000000  [{\"id\": 28, \"name\": \"Action\"}, {\"id\": 12, \"nam...   \n",
              "3  250000000  [{\"id\": 28, \"name\": \"Action\"}, {\"id\": 80, \"nam...   \n",
              "4  260000000  [{\"id\": 28, \"name\": \"Action\"}, {\"id\": 12, \"nam...   \n",
              "5  258000000  [{\"id\": 14, \"name\": \"Fantasy\"}, {\"id\": 28, \"na...   \n",
              "6  260000000  [{\"id\": 16, \"name\": \"Animation\"}, {\"id\": 10751...   \n",
              "7  280000000  [{\"id\": 28, \"name\": \"Action\"}, {\"id\": 12, \"nam...   \n",
              "8  250000000  [{\"id\": 12, \"name\": \"Adventure\"}, {\"id\": 14, \"...   \n",
              "9  250000000  [{\"id\": 28, \"name\": \"Action\"}, {\"id\": 12, \"nam...   \n",
              "\n",
              "                                            homepage      id  \\\n",
              "0                        http://www.avatarmovie.com/   19995   \n",
              "1       http://disney.go.com/disneypictures/pirates/     285   \n",
              "2        http://www.sonypictures.com/movies/spectre/  206647   \n",
              "3                 http://www.thedarkknightrises.com/   49026   \n",
              "4               http://movies.disney.com/john-carter   49529   \n",
              "5    http://www.sonypictures.com/movies/spider-man3/     559   \n",
              "6       http://disney.go.com/disneypictures/tangled/   38757   \n",
              "7  http://marvel.com/movies/movie/193/avengers_ag...   99861   \n",
              "8  http://harrypotter.warnerbros.com/harrypottera...     767   \n",
              "9       http://www.batmanvsupermandawnofjustice.com/  209112   \n",
              "\n",
              "                                            keywords original_language  \\\n",
              "0  [{\"id\": 1463, \"name\": \"culture clash\"}, {\"id\":...                en   \n",
              "1  [{\"id\": 270, \"name\": \"ocean\"}, {\"id\": 726, \"na...                en   \n",
              "2  [{\"id\": 470, \"name\": \"spy\"}, {\"id\": 818, \"name...                en   \n",
              "3  [{\"id\": 849, \"name\": \"dc comics\"}, {\"id\": 853,...                en   \n",
              "4  [{\"id\": 818, \"name\": \"based on novel\"}, {\"id\":...                en   \n",
              "5  [{\"id\": 851, \"name\": \"dual identity\"}, {\"id\": ...                en   \n",
              "6  [{\"id\": 1562, \"name\": \"hostage\"}, {\"id\": 2343,...                en   \n",
              "7  [{\"id\": 8828, \"name\": \"marvel comic\"}, {\"id\": ...                en   \n",
              "8  [{\"id\": 616, \"name\": \"witch\"}, {\"id\": 2343, \"n...                en   \n",
              "9  [{\"id\": 849, \"name\": \"dc comics\"}, {\"id\": 7002...                en   \n",
              "\n",
              "                             original_title  \\\n",
              "0                                    Avatar   \n",
              "1  Pirates of the Caribbean: At World's End   \n",
              "2                                   Spectre   \n",
              "3                     The Dark Knight Rises   \n",
              "4                               John Carter   \n",
              "5                              Spider-Man 3   \n",
              "6                                   Tangled   \n",
              "7                   Avengers: Age of Ultron   \n",
              "8    Harry Potter and the Half-Blood Prince   \n",
              "9        Batman v Superman: Dawn of Justice   \n",
              "\n",
              "                                            overview  popularity  \\\n",
              "0  In the 22nd century, a paraplegic Marine is di...  150.437577   \n",
              "1  Captain Barbossa, long believed to be dead, ha...  139.082615   \n",
              "2  A cryptic message from Bond’s past sends him o...  107.376788   \n",
              "3  Following the death of District Attorney Harve...  112.312950   \n",
              "4  John Carter is a war-weary, former military ca...   43.926995   \n",
              "5  The seemingly invincible Spider-Man goes up ag...  115.699814   \n",
              "6  When the kingdom's most wanted-and most charmi...   48.681969   \n",
              "7  When Tony Stark tries to jumpstart a dormant p...  134.279229   \n",
              "8  As Harry begins his sixth year at Hogwarts, he...   98.885637   \n",
              "9  Fearing the actions of a god-like Super Hero l...  155.790452   \n",
              "\n",
              "                                production_companies  \\\n",
              "0  [{\"name\": \"Ingenious Film Partners\", \"id\": 289...   \n",
              "1  [{\"name\": \"Walt Disney Pictures\", \"id\": 2}, {\"...   \n",
              "2  [{\"name\": \"Columbia Pictures\", \"id\": 5}, {\"nam...   \n",
              "3  [{\"name\": \"Legendary Pictures\", \"id\": 923}, {\"...   \n",
              "4        [{\"name\": \"Walt Disney Pictures\", \"id\": 2}]   \n",
              "5  [{\"name\": \"Columbia Pictures\", \"id\": 5}, {\"nam...   \n",
              "6  [{\"name\": \"Walt Disney Pictures\", \"id\": 2}, {\"...   \n",
              "7  [{\"name\": \"Marvel Studios\", \"id\": 420}, {\"name...   \n",
              "8  [{\"name\": \"Warner Bros.\", \"id\": 6194}, {\"name\"...   \n",
              "9  [{\"name\": \"DC Comics\", \"id\": 429}, {\"name\": \"A...   \n",
              "\n",
              "                                production_countries release_date     revenue  \\\n",
              "0  [{\"iso_3166_1\": \"US\", \"name\": \"United States o...   2009-12-10  2787965087   \n",
              "1  [{\"iso_3166_1\": \"US\", \"name\": \"United States o...   2007-05-19   961000000   \n",
              "2  [{\"iso_3166_1\": \"GB\", \"name\": \"United Kingdom\"...   2015-10-26   880674609   \n",
              "3  [{\"iso_3166_1\": \"US\", \"name\": \"United States o...   2012-07-16  1084939099   \n",
              "4  [{\"iso_3166_1\": \"US\", \"name\": \"United States o...   2012-03-07   284139100   \n",
              "5  [{\"iso_3166_1\": \"US\", \"name\": \"United States o...   2007-05-01   890871626   \n",
              "6  [{\"iso_3166_1\": \"US\", \"name\": \"United States o...   2010-11-24   591794936   \n",
              "7  [{\"iso_3166_1\": \"US\", \"name\": \"United States o...   2015-04-22  1405403694   \n",
              "8  [{\"iso_3166_1\": \"GB\", \"name\": \"United Kingdom\"...   2009-07-07   933959197   \n",
              "9  [{\"iso_3166_1\": \"US\", \"name\": \"United States o...   2016-03-23   873260194   \n",
              "\n",
              "   runtime                                   spoken_languages    status  \\\n",
              "0    162.0  [{\"iso_639_1\": \"en\", \"name\": \"English\"}, {\"iso...  Released   \n",
              "1    169.0           [{\"iso_639_1\": \"en\", \"name\": \"English\"}]  Released   \n",
              "2    148.0  [{\"iso_639_1\": \"fr\", \"name\": \"Fran\\u00e7ais\"},...  Released   \n",
              "3    165.0           [{\"iso_639_1\": \"en\", \"name\": \"English\"}]  Released   \n",
              "4    132.0           [{\"iso_639_1\": \"en\", \"name\": \"English\"}]  Released   \n",
              "5    139.0  [{\"iso_639_1\": \"en\", \"name\": \"English\"}, {\"iso...  Released   \n",
              "6    100.0           [{\"iso_639_1\": \"en\", \"name\": \"English\"}]  Released   \n",
              "7    141.0           [{\"iso_639_1\": \"en\", \"name\": \"English\"}]  Released   \n",
              "8    153.0           [{\"iso_639_1\": \"en\", \"name\": \"English\"}]  Released   \n",
              "9    151.0           [{\"iso_639_1\": \"en\", \"name\": \"English\"}]  Released   \n",
              "\n",
              "                                          tagline  \\\n",
              "0                     Enter the World of Pandora.   \n",
              "1  At the end of the world, the adventure begins.   \n",
              "2                           A Plan No One Escapes   \n",
              "3                                 The Legend Ends   \n",
              "4            Lost in our world, found in another.   \n",
              "5                              The battle within.   \n",
              "6        They're taking adventure to new lengths.   \n",
              "7                             A New Age Has Come.   \n",
              "8                           Dark Secrets Revealed   \n",
              "9                              Justice or revenge   \n",
              "\n",
              "                                      title  vote_average  vote_count  \n",
              "0                                    Avatar           7.2       11800  \n",
              "1  Pirates of the Caribbean: At World's End           6.9        4500  \n",
              "2                                   Spectre           6.3        4466  \n",
              "3                     The Dark Knight Rises           7.6        9106  \n",
              "4                               John Carter           6.1        2124  \n",
              "5                              Spider-Man 3           5.9        3576  \n",
              "6                                   Tangled           7.4        3330  \n",
              "7                   Avengers: Age of Ultron           7.3        6767  \n",
              "8    Harry Potter and the Half-Blood Prince           7.4        5293  \n",
              "9        Batman v Superman: Dawn of Justice           5.7        7004  "
            ],
            "text/html": [
              "\n",
              "  <div id=\"df-9639fd75-4564-4271-80b8-a7c3cbacda6c\">\n",
              "    <div class=\"colab-df-container\">\n",
              "      <div>\n",
              "<style scoped>\n",
              "    .dataframe tbody tr th:only-of-type {\n",
              "        vertical-align: middle;\n",
              "    }\n",
              "\n",
              "    .dataframe tbody tr th {\n",
              "        vertical-align: top;\n",
              "    }\n",
              "\n",
              "    .dataframe thead th {\n",
              "        text-align: right;\n",
              "    }\n",
              "</style>\n",
              "<table border=\"1\" class=\"dataframe\">\n",
              "  <thead>\n",
              "    <tr style=\"text-align: right;\">\n",
              "      <th></th>\n",
              "      <th>budget</th>\n",
              "      <th>genres</th>\n",
              "      <th>homepage</th>\n",
              "      <th>id</th>\n",
              "      <th>keywords</th>\n",
              "      <th>original_language</th>\n",
              "      <th>original_title</th>\n",
              "      <th>overview</th>\n",
              "      <th>popularity</th>\n",
              "      <th>production_companies</th>\n",
              "      <th>production_countries</th>\n",
              "      <th>release_date</th>\n",
              "      <th>revenue</th>\n",
              "      <th>runtime</th>\n",
              "      <th>spoken_languages</th>\n",
              "      <th>status</th>\n",
              "      <th>tagline</th>\n",
              "      <th>title</th>\n",
              "      <th>vote_average</th>\n",
              "      <th>vote_count</th>\n",
              "    </tr>\n",
              "  </thead>\n",
              "  <tbody>\n",
              "    <tr>\n",
              "      <th>0</th>\n",
              "      <td>237000000</td>\n",
              "      <td>[{\"id\": 28, \"name\": \"Action\"}, {\"id\": 12, \"nam...</td>\n",
              "      <td>http://www.avatarmovie.com/</td>\n",
              "      <td>19995</td>\n",
              "      <td>[{\"id\": 1463, \"name\": \"culture clash\"}, {\"id\":...</td>\n",
              "      <td>en</td>\n",
              "      <td>Avatar</td>\n",
              "      <td>In the 22nd century, a paraplegic Marine is di...</td>\n",
              "      <td>150.437577</td>\n",
              "      <td>[{\"name\": \"Ingenious Film Partners\", \"id\": 289...</td>\n",
              "      <td>[{\"iso_3166_1\": \"US\", \"name\": \"United States o...</td>\n",
              "      <td>2009-12-10</td>\n",
              "      <td>2787965087</td>\n",
              "      <td>162.0</td>\n",
              "      <td>[{\"iso_639_1\": \"en\", \"name\": \"English\"}, {\"iso...</td>\n",
              "      <td>Released</td>\n",
              "      <td>Enter the World of Pandora.</td>\n",
              "      <td>Avatar</td>\n",
              "      <td>7.2</td>\n",
              "      <td>11800</td>\n",
              "    </tr>\n",
              "    <tr>\n",
              "      <th>1</th>\n",
              "      <td>300000000</td>\n",
              "      <td>[{\"id\": 12, \"name\": \"Adventure\"}, {\"id\": 14, \"...</td>\n",
              "      <td>http://disney.go.com/disneypictures/pirates/</td>\n",
              "      <td>285</td>\n",
              "      <td>[{\"id\": 270, \"name\": \"ocean\"}, {\"id\": 726, \"na...</td>\n",
              "      <td>en</td>\n",
              "      <td>Pirates of the Caribbean: At World's End</td>\n",
              "      <td>Captain Barbossa, long believed to be dead, ha...</td>\n",
              "      <td>139.082615</td>\n",
              "      <td>[{\"name\": \"Walt Disney Pictures\", \"id\": 2}, {\"...</td>\n",
              "      <td>[{\"iso_3166_1\": \"US\", \"name\": \"United States o...</td>\n",
              "      <td>2007-05-19</td>\n",
              "      <td>961000000</td>\n",
              "      <td>169.0</td>\n",
              "      <td>[{\"iso_639_1\": \"en\", \"name\": \"English\"}]</td>\n",
              "      <td>Released</td>\n",
              "      <td>At the end of the world, the adventure begins.</td>\n",
              "      <td>Pirates of the Caribbean: At World's End</td>\n",
              "      <td>6.9</td>\n",
              "      <td>4500</td>\n",
              "    </tr>\n",
              "    <tr>\n",
              "      <th>2</th>\n",
              "      <td>245000000</td>\n",
              "      <td>[{\"id\": 28, \"name\": \"Action\"}, {\"id\": 12, \"nam...</td>\n",
              "      <td>http://www.sonypictures.com/movies/spectre/</td>\n",
              "      <td>206647</td>\n",
              "      <td>[{\"id\": 470, \"name\": \"spy\"}, {\"id\": 818, \"name...</td>\n",
              "      <td>en</td>\n",
              "      <td>Spectre</td>\n",
              "      <td>A cryptic message from Bond’s past sends him o...</td>\n",
              "      <td>107.376788</td>\n",
              "      <td>[{\"name\": \"Columbia Pictures\", \"id\": 5}, {\"nam...</td>\n",
              "      <td>[{\"iso_3166_1\": \"GB\", \"name\": \"United Kingdom\"...</td>\n",
              "      <td>2015-10-26</td>\n",
              "      <td>880674609</td>\n",
              "      <td>148.0</td>\n",
              "      <td>[{\"iso_639_1\": \"fr\", \"name\": \"Fran\\u00e7ais\"},...</td>\n",
              "      <td>Released</td>\n",
              "      <td>A Plan No One Escapes</td>\n",
              "      <td>Spectre</td>\n",
              "      <td>6.3</td>\n",
              "      <td>4466</td>\n",
              "    </tr>\n",
              "    <tr>\n",
              "      <th>3</th>\n",
              "      <td>250000000</td>\n",
              "      <td>[{\"id\": 28, \"name\": \"Action\"}, {\"id\": 80, \"nam...</td>\n",
              "      <td>http://www.thedarkknightrises.com/</td>\n",
              "      <td>49026</td>\n",
              "      <td>[{\"id\": 849, \"name\": \"dc comics\"}, {\"id\": 853,...</td>\n",
              "      <td>en</td>\n",
              "      <td>The Dark Knight Rises</td>\n",
              "      <td>Following the death of District Attorney Harve...</td>\n",
              "      <td>112.312950</td>\n",
              "      <td>[{\"name\": \"Legendary Pictures\", \"id\": 923}, {\"...</td>\n",
              "      <td>[{\"iso_3166_1\": \"US\", \"name\": \"United States o...</td>\n",
              "      <td>2012-07-16</td>\n",
              "      <td>1084939099</td>\n",
              "      <td>165.0</td>\n",
              "      <td>[{\"iso_639_1\": \"en\", \"name\": \"English\"}]</td>\n",
              "      <td>Released</td>\n",
              "      <td>The Legend Ends</td>\n",
              "      <td>The Dark Knight Rises</td>\n",
              "      <td>7.6</td>\n",
              "      <td>9106</td>\n",
              "    </tr>\n",
              "    <tr>\n",
              "      <th>4</th>\n",
              "      <td>260000000</td>\n",
              "      <td>[{\"id\": 28, \"name\": \"Action\"}, {\"id\": 12, \"nam...</td>\n",
              "      <td>http://movies.disney.com/john-carter</td>\n",
              "      <td>49529</td>\n",
              "      <td>[{\"id\": 818, \"name\": \"based on novel\"}, {\"id\":...</td>\n",
              "      <td>en</td>\n",
              "      <td>John Carter</td>\n",
              "      <td>John Carter is a war-weary, former military ca...</td>\n",
              "      <td>43.926995</td>\n",
              "      <td>[{\"name\": \"Walt Disney Pictures\", \"id\": 2}]</td>\n",
              "      <td>[{\"iso_3166_1\": \"US\", \"name\": \"United States o...</td>\n",
              "      <td>2012-03-07</td>\n",
              "      <td>284139100</td>\n",
              "      <td>132.0</td>\n",
              "      <td>[{\"iso_639_1\": \"en\", \"name\": \"English\"}]</td>\n",
              "      <td>Released</td>\n",
              "      <td>Lost in our world, found in another.</td>\n",
              "      <td>John Carter</td>\n",
              "      <td>6.1</td>\n",
              "      <td>2124</td>\n",
              "    </tr>\n",
              "    <tr>\n",
              "      <th>5</th>\n",
              "      <td>258000000</td>\n",
              "      <td>[{\"id\": 14, \"name\": \"Fantasy\"}, {\"id\": 28, \"na...</td>\n",
              "      <td>http://www.sonypictures.com/movies/spider-man3/</td>\n",
              "      <td>559</td>\n",
              "      <td>[{\"id\": 851, \"name\": \"dual identity\"}, {\"id\": ...</td>\n",
              "      <td>en</td>\n",
              "      <td>Spider-Man 3</td>\n",
              "      <td>The seemingly invincible Spider-Man goes up ag...</td>\n",
              "      <td>115.699814</td>\n",
              "      <td>[{\"name\": \"Columbia Pictures\", \"id\": 5}, {\"nam...</td>\n",
              "      <td>[{\"iso_3166_1\": \"US\", \"name\": \"United States o...</td>\n",
              "      <td>2007-05-01</td>\n",
              "      <td>890871626</td>\n",
              "      <td>139.0</td>\n",
              "      <td>[{\"iso_639_1\": \"en\", \"name\": \"English\"}, {\"iso...</td>\n",
              "      <td>Released</td>\n",
              "      <td>The battle within.</td>\n",
              "      <td>Spider-Man 3</td>\n",
              "      <td>5.9</td>\n",
              "      <td>3576</td>\n",
              "    </tr>\n",
              "    <tr>\n",
              "      <th>6</th>\n",
              "      <td>260000000</td>\n",
              "      <td>[{\"id\": 16, \"name\": \"Animation\"}, {\"id\": 10751...</td>\n",
              "      <td>http://disney.go.com/disneypictures/tangled/</td>\n",
              "      <td>38757</td>\n",
              "      <td>[{\"id\": 1562, \"name\": \"hostage\"}, {\"id\": 2343,...</td>\n",
              "      <td>en</td>\n",
              "      <td>Tangled</td>\n",
              "      <td>When the kingdom's most wanted-and most charmi...</td>\n",
              "      <td>48.681969</td>\n",
              "      <td>[{\"name\": \"Walt Disney Pictures\", \"id\": 2}, {\"...</td>\n",
              "      <td>[{\"iso_3166_1\": \"US\", \"name\": \"United States o...</td>\n",
              "      <td>2010-11-24</td>\n",
              "      <td>591794936</td>\n",
              "      <td>100.0</td>\n",
              "      <td>[{\"iso_639_1\": \"en\", \"name\": \"English\"}]</td>\n",
              "      <td>Released</td>\n",
              "      <td>They're taking adventure to new lengths.</td>\n",
              "      <td>Tangled</td>\n",
              "      <td>7.4</td>\n",
              "      <td>3330</td>\n",
              "    </tr>\n",
              "    <tr>\n",
              "      <th>7</th>\n",
              "      <td>280000000</td>\n",
              "      <td>[{\"id\": 28, \"name\": \"Action\"}, {\"id\": 12, \"nam...</td>\n",
              "      <td>http://marvel.com/movies/movie/193/avengers_ag...</td>\n",
              "      <td>99861</td>\n",
              "      <td>[{\"id\": 8828, \"name\": \"marvel comic\"}, {\"id\": ...</td>\n",
              "      <td>en</td>\n",
              "      <td>Avengers: Age of Ultron</td>\n",
              "      <td>When Tony Stark tries to jumpstart a dormant p...</td>\n",
              "      <td>134.279229</td>\n",
              "      <td>[{\"name\": \"Marvel Studios\", \"id\": 420}, {\"name...</td>\n",
              "      <td>[{\"iso_3166_1\": \"US\", \"name\": \"United States o...</td>\n",
              "      <td>2015-04-22</td>\n",
              "      <td>1405403694</td>\n",
              "      <td>141.0</td>\n",
              "      <td>[{\"iso_639_1\": \"en\", \"name\": \"English\"}]</td>\n",
              "      <td>Released</td>\n",
              "      <td>A New Age Has Come.</td>\n",
              "      <td>Avengers: Age of Ultron</td>\n",
              "      <td>7.3</td>\n",
              "      <td>6767</td>\n",
              "    </tr>\n",
              "    <tr>\n",
              "      <th>8</th>\n",
              "      <td>250000000</td>\n",
              "      <td>[{\"id\": 12, \"name\": \"Adventure\"}, {\"id\": 14, \"...</td>\n",
              "      <td>http://harrypotter.warnerbros.com/harrypottera...</td>\n",
              "      <td>767</td>\n",
              "      <td>[{\"id\": 616, \"name\": \"witch\"}, {\"id\": 2343, \"n...</td>\n",
              "      <td>en</td>\n",
              "      <td>Harry Potter and the Half-Blood Prince</td>\n",
              "      <td>As Harry begins his sixth year at Hogwarts, he...</td>\n",
              "      <td>98.885637</td>\n",
              "      <td>[{\"name\": \"Warner Bros.\", \"id\": 6194}, {\"name\"...</td>\n",
              "      <td>[{\"iso_3166_1\": \"GB\", \"name\": \"United Kingdom\"...</td>\n",
              "      <td>2009-07-07</td>\n",
              "      <td>933959197</td>\n",
              "      <td>153.0</td>\n",
              "      <td>[{\"iso_639_1\": \"en\", \"name\": \"English\"}]</td>\n",
              "      <td>Released</td>\n",
              "      <td>Dark Secrets Revealed</td>\n",
              "      <td>Harry Potter and the Half-Blood Prince</td>\n",
              "      <td>7.4</td>\n",
              "      <td>5293</td>\n",
              "    </tr>\n",
              "    <tr>\n",
              "      <th>9</th>\n",
              "      <td>250000000</td>\n",
              "      <td>[{\"id\": 28, \"name\": \"Action\"}, {\"id\": 12, \"nam...</td>\n",
              "      <td>http://www.batmanvsupermandawnofjustice.com/</td>\n",
              "      <td>209112</td>\n",
              "      <td>[{\"id\": 849, \"name\": \"dc comics\"}, {\"id\": 7002...</td>\n",
              "      <td>en</td>\n",
              "      <td>Batman v Superman: Dawn of Justice</td>\n",
              "      <td>Fearing the actions of a god-like Super Hero l...</td>\n",
              "      <td>155.790452</td>\n",
              "      <td>[{\"name\": \"DC Comics\", \"id\": 429}, {\"name\": \"A...</td>\n",
              "      <td>[{\"iso_3166_1\": \"US\", \"name\": \"United States o...</td>\n",
              "      <td>2016-03-23</td>\n",
              "      <td>873260194</td>\n",
              "      <td>151.0</td>\n",
              "      <td>[{\"iso_639_1\": \"en\", \"name\": \"English\"}]</td>\n",
              "      <td>Released</td>\n",
              "      <td>Justice or revenge</td>\n",
              "      <td>Batman v Superman: Dawn of Justice</td>\n",
              "      <td>5.7</td>\n",
              "      <td>7004</td>\n",
              "    </tr>\n",
              "  </tbody>\n",
              "</table>\n",
              "</div>\n",
              "      <button class=\"colab-df-convert\" onclick=\"convertToInteractive('df-9639fd75-4564-4271-80b8-a7c3cbacda6c')\"\n",
              "              title=\"Convert this dataframe to an interactive table.\"\n",
              "              style=\"display:none;\">\n",
              "        \n",
              "  <svg xmlns=\"http://www.w3.org/2000/svg\" height=\"24px\"viewBox=\"0 0 24 24\"\n",
              "       width=\"24px\">\n",
              "    <path d=\"M0 0h24v24H0V0z\" fill=\"none\"/>\n",
              "    <path d=\"M18.56 5.44l.94 2.06.94-2.06 2.06-.94-2.06-.94-.94-2.06-.94 2.06-2.06.94zm-11 1L8.5 8.5l.94-2.06 2.06-.94-2.06-.94L8.5 2.5l-.94 2.06-2.06.94zm10 10l.94 2.06.94-2.06 2.06-.94-2.06-.94-.94-2.06-.94 2.06-2.06.94z\"/><path d=\"M17.41 7.96l-1.37-1.37c-.4-.4-.92-.59-1.43-.59-.52 0-1.04.2-1.43.59L10.3 9.45l-7.72 7.72c-.78.78-.78 2.05 0 2.83L4 21.41c.39.39.9.59 1.41.59.51 0 1.02-.2 1.41-.59l7.78-7.78 2.81-2.81c.8-.78.8-2.07 0-2.86zM5.41 20L4 18.59l7.72-7.72 1.47 1.35L5.41 20z\"/>\n",
              "  </svg>\n",
              "      </button>\n",
              "      \n",
              "  <style>\n",
              "    .colab-df-container {\n",
              "      display:flex;\n",
              "      flex-wrap:wrap;\n",
              "      gap: 12px;\n",
              "    }\n",
              "\n",
              "    .colab-df-convert {\n",
              "      background-color: #E8F0FE;\n",
              "      border: none;\n",
              "      border-radius: 50%;\n",
              "      cursor: pointer;\n",
              "      display: none;\n",
              "      fill: #1967D2;\n",
              "      height: 32px;\n",
              "      padding: 0 0 0 0;\n",
              "      width: 32px;\n",
              "    }\n",
              "\n",
              "    .colab-df-convert:hover {\n",
              "      background-color: #E2EBFA;\n",
              "      box-shadow: 0px 1px 2px rgba(60, 64, 67, 0.3), 0px 1px 3px 1px rgba(60, 64, 67, 0.15);\n",
              "      fill: #174EA6;\n",
              "    }\n",
              "\n",
              "    [theme=dark] .colab-df-convert {\n",
              "      background-color: #3B4455;\n",
              "      fill: #D2E3FC;\n",
              "    }\n",
              "\n",
              "    [theme=dark] .colab-df-convert:hover {\n",
              "      background-color: #434B5C;\n",
              "      box-shadow: 0px 1px 3px 1px rgba(0, 0, 0, 0.15);\n",
              "      filter: drop-shadow(0px 1px 2px rgba(0, 0, 0, 0.3));\n",
              "      fill: #FFFFFF;\n",
              "    }\n",
              "  </style>\n",
              "\n",
              "      <script>\n",
              "        const buttonEl =\n",
              "          document.querySelector('#df-9639fd75-4564-4271-80b8-a7c3cbacda6c button.colab-df-convert');\n",
              "        buttonEl.style.display =\n",
              "          google.colab.kernel.accessAllowed ? 'block' : 'none';\n",
              "\n",
              "        async function convertToInteractive(key) {\n",
              "          const element = document.querySelector('#df-9639fd75-4564-4271-80b8-a7c3cbacda6c');\n",
              "          const dataTable =\n",
              "            await google.colab.kernel.invokeFunction('convertToInteractive',\n",
              "                                                     [key], {});\n",
              "          if (!dataTable) return;\n",
              "\n",
              "          const docLinkHtml = 'Like what you see? Visit the ' +\n",
              "            '<a target=\"_blank\" href=https://colab.research.google.com/notebooks/data_table.ipynb>data table notebook</a>'\n",
              "            + ' to learn more about interactive tables.';\n",
              "          element.innerHTML = '';\n",
              "          dataTable['output_type'] = 'display_data';\n",
              "          await google.colab.output.renderOutput(dataTable, element);\n",
              "          const docLink = document.createElement('div');\n",
              "          docLink.innerHTML = docLinkHtml;\n",
              "          element.appendChild(docLink);\n",
              "        }\n",
              "      </script>\n",
              "    </div>\n",
              "  </div>\n",
              "  "
            ]
          },
          "metadata": {},
          "execution_count": 21
        }
      ],
      "source": [
        "### Open Your CSV file and print the first 10 rows in a good format ###\n",
        "import pandas as pd \n",
        "df = pd.read_csv(\"/content/drive/MyDrive/Datasets/tmdb_5000_movies.csv\")\n",
        "df.head(10)"
      ],
      "id": "d5b09cac"
    },
    {
      "cell_type": "code",
      "execution_count": null,
      "metadata": {
        "colab": {
          "base_uri": "https://localhost:8080/"
        },
        "id": "fee35922",
        "outputId": "ba19dc18-934c-450d-a807-a0b7ceac2ef4"
      },
      "outputs": [
        {
          "output_type": "stream",
          "name": "stdout",
          "text": [
            "budget                     0\n",
            "genres                     0\n",
            "homepage                3091\n",
            "id                         0\n",
            "keywords                   0\n",
            "original_language          0\n",
            "original_title             0\n",
            "overview                   3\n",
            "popularity                 0\n",
            "production_companies       0\n",
            "production_countries       0\n",
            "release_date               1\n",
            "revenue                    0\n",
            "runtime                    2\n",
            "spoken_languages           0\n",
            "status                     0\n",
            "tagline                  844\n",
            "title                      0\n",
            "vote_average               0\n",
            "vote_count                 0\n",
            "dtype: int64 \n",
            "\n",
            "After imputation:\n",
            " budget                  0\n",
            "genres                  0\n",
            "id                      0\n",
            "keywords                0\n",
            "original_language       0\n",
            "original_title          0\n",
            "overview                0\n",
            "popularity              0\n",
            "production_companies    0\n",
            "production_countries    0\n",
            "release_date            0\n",
            "revenue                 0\n",
            "runtime                 0\n",
            "spoken_languages        0\n",
            "status                  0\n",
            "tagline                 0\n",
            "title                   0\n",
            "vote_average            0\n",
            "vote_count              0\n",
            "dtype: int64\n"
          ]
        }
      ],
      "source": [
        "### Check if any NANs in your dataset and fill them with a good filer ###\n",
        "print(df.isnull().sum(),\"\\n\")\n",
        "#drop homepage (unnecessary column)\n",
        "df.drop(['homepage'], axis=1, inplace=True)\n",
        "#impute null values in tagline column with unknown\n",
        "df['tagline'] = df['tagline'].fillna('unknown')\n",
        "#drop the rest null values\n",
        "df.dropna(inplace=True)\n",
        "print(\"After imputation:\\n\",df.isnull().sum())"
      ],
      "id": "fee35922"
    },
    {
      "cell_type": "code",
      "execution_count": null,
      "metadata": {
        "colab": {
          "base_uri": "https://localhost:8080/"
        },
        "id": "b92120fe",
        "outputId": "8be9fb53-db18-4aa2-9df8-1d907a9d8286"
      },
      "outputs": [
        {
          "output_type": "stream",
          "name": "stdout",
          "text": [
            "budget                    int64\n",
            "genres                   object\n",
            "id                        int64\n",
            "keywords                 object\n",
            "original_language        object\n",
            "original_title           object\n",
            "overview                 object\n",
            "popularity              float64\n",
            "production_companies     object\n",
            "production_countries     object\n",
            "release_date             object\n",
            "revenue                   int64\n",
            "runtime                 float64\n",
            "spoken_languages         object\n",
            "status                   object\n",
            "tagline                  object\n",
            "title                    object\n",
            "vote_average            float64\n",
            "vote_count                int64\n",
            "dtype: object\n",
            "<class 'pandas.core.frame.DataFrame'>\n",
            "Int64Index: 4799 entries, 0 to 4802\n",
            "Data columns (total 19 columns):\n",
            " #   Column                Non-Null Count  Dtype         \n",
            "---  ------                --------------  -----         \n",
            " 0   budget                4799 non-null   int64         \n",
            " 1   genres                4799 non-null   object        \n",
            " 2   id                    4799 non-null   int64         \n",
            " 3   keywords              4799 non-null   object        \n",
            " 4   original_language     4799 non-null   object        \n",
            " 5   original_title        4799 non-null   object        \n",
            " 6   overview              4799 non-null   object        \n",
            " 7   popularity            4799 non-null   float64       \n",
            " 8   production_companies  4799 non-null   object        \n",
            " 9   production_countries  4799 non-null   object        \n",
            " 10  release_date          4799 non-null   datetime64[ns]\n",
            " 11  revenue               4799 non-null   int64         \n",
            " 12  runtime               4799 non-null   float64       \n",
            " 13  spoken_languages      4799 non-null   object        \n",
            " 14  status                4799 non-null   object        \n",
            " 15  tagline               4799 non-null   object        \n",
            " 16  title                 4799 non-null   object        \n",
            " 17  vote_average          4799 non-null   float64       \n",
            " 18  vote_count            4799 non-null   int64         \n",
            "dtypes: datetime64[ns](1), float64(3), int64(4), object(11)\n",
            "memory usage: 749.8+ KB\n",
            "None\n"
          ]
        }
      ],
      "source": [
        "### Discover the types of each columns and modify them if needed ###\n",
        "print(df.dtypes)\n",
        "df['release_date'] = pd.to_datetime(df['release_date'])\n",
        "print(df.info())"
      ],
      "id": "b92120fe"
    },
    {
      "cell_type": "code",
      "execution_count": null,
      "metadata": {
        "colab": {
          "base_uri": "https://localhost:8080/",
          "height": 269
        },
        "id": "0ecf153d",
        "outputId": "319e6314-3394-4a2c-c831-f951745ee7a5"
      },
      "outputs": [
        {
          "output_type": "execute_result",
          "data": {
            "text/plain": [
              "               count          mean           std       min            25%  \\\n",
              "budget        4799.0  2.906593e+07  4.073251e+07  0.000000  800000.000000   \n",
              "id            4799.0  5.689992e+04  8.823650e+04  5.000000    9012.500000   \n",
              "popularity    4799.0  2.150988e+01  3.182407e+01  0.000372       4.685547   \n",
              "revenue       4799.0  8.232920e+07  1.629076e+08  0.000000       0.000000   \n",
              "runtime       4799.0  1.069031e+02  2.256131e+01  0.000000      94.000000   \n",
              "vote_average  4799.0  6.094186e+00  1.188340e+00  0.000000       5.600000   \n",
              "vote_count    4799.0  6.907891e+02  1.234942e+03  0.000000      54.000000   \n",
              "\n",
              "                       50%           75%           max  \n",
              "budget        1.500000e+07  4.000000e+07  3.800000e+08  \n",
              "id            1.462300e+04  5.846150e+04  4.470270e+05  \n",
              "popularity    1.292952e+01  2.835073e+01  8.755813e+02  \n",
              "revenue       1.918402e+07  9.295652e+07  2.787965e+09  \n",
              "runtime       1.030000e+02  1.180000e+02  3.380000e+02  \n",
              "vote_average  6.200000e+00  6.800000e+00  1.000000e+01  \n",
              "vote_count    2.360000e+02  7.375000e+02  1.375200e+04  "
            ],
            "text/html": [
              "\n",
              "  <div id=\"df-d2643c08-e040-4293-83bf-81784c1904aa\">\n",
              "    <div class=\"colab-df-container\">\n",
              "      <div>\n",
              "<style scoped>\n",
              "    .dataframe tbody tr th:only-of-type {\n",
              "        vertical-align: middle;\n",
              "    }\n",
              "\n",
              "    .dataframe tbody tr th {\n",
              "        vertical-align: top;\n",
              "    }\n",
              "\n",
              "    .dataframe thead th {\n",
              "        text-align: right;\n",
              "    }\n",
              "</style>\n",
              "<table border=\"1\" class=\"dataframe\">\n",
              "  <thead>\n",
              "    <tr style=\"text-align: right;\">\n",
              "      <th></th>\n",
              "      <th>count</th>\n",
              "      <th>mean</th>\n",
              "      <th>std</th>\n",
              "      <th>min</th>\n",
              "      <th>25%</th>\n",
              "      <th>50%</th>\n",
              "      <th>75%</th>\n",
              "      <th>max</th>\n",
              "    </tr>\n",
              "  </thead>\n",
              "  <tbody>\n",
              "    <tr>\n",
              "      <th>budget</th>\n",
              "      <td>4799.0</td>\n",
              "      <td>2.906593e+07</td>\n",
              "      <td>4.073251e+07</td>\n",
              "      <td>0.000000</td>\n",
              "      <td>800000.000000</td>\n",
              "      <td>1.500000e+07</td>\n",
              "      <td>4.000000e+07</td>\n",
              "      <td>3.800000e+08</td>\n",
              "    </tr>\n",
              "    <tr>\n",
              "      <th>id</th>\n",
              "      <td>4799.0</td>\n",
              "      <td>5.689992e+04</td>\n",
              "      <td>8.823650e+04</td>\n",
              "      <td>5.000000</td>\n",
              "      <td>9012.500000</td>\n",
              "      <td>1.462300e+04</td>\n",
              "      <td>5.846150e+04</td>\n",
              "      <td>4.470270e+05</td>\n",
              "    </tr>\n",
              "    <tr>\n",
              "      <th>popularity</th>\n",
              "      <td>4799.0</td>\n",
              "      <td>2.150988e+01</td>\n",
              "      <td>3.182407e+01</td>\n",
              "      <td>0.000372</td>\n",
              "      <td>4.685547</td>\n",
              "      <td>1.292952e+01</td>\n",
              "      <td>2.835073e+01</td>\n",
              "      <td>8.755813e+02</td>\n",
              "    </tr>\n",
              "    <tr>\n",
              "      <th>revenue</th>\n",
              "      <td>4799.0</td>\n",
              "      <td>8.232920e+07</td>\n",
              "      <td>1.629076e+08</td>\n",
              "      <td>0.000000</td>\n",
              "      <td>0.000000</td>\n",
              "      <td>1.918402e+07</td>\n",
              "      <td>9.295652e+07</td>\n",
              "      <td>2.787965e+09</td>\n",
              "    </tr>\n",
              "    <tr>\n",
              "      <th>runtime</th>\n",
              "      <td>4799.0</td>\n",
              "      <td>1.069031e+02</td>\n",
              "      <td>2.256131e+01</td>\n",
              "      <td>0.000000</td>\n",
              "      <td>94.000000</td>\n",
              "      <td>1.030000e+02</td>\n",
              "      <td>1.180000e+02</td>\n",
              "      <td>3.380000e+02</td>\n",
              "    </tr>\n",
              "    <tr>\n",
              "      <th>vote_average</th>\n",
              "      <td>4799.0</td>\n",
              "      <td>6.094186e+00</td>\n",
              "      <td>1.188340e+00</td>\n",
              "      <td>0.000000</td>\n",
              "      <td>5.600000</td>\n",
              "      <td>6.200000e+00</td>\n",
              "      <td>6.800000e+00</td>\n",
              "      <td>1.000000e+01</td>\n",
              "    </tr>\n",
              "    <tr>\n",
              "      <th>vote_count</th>\n",
              "      <td>4799.0</td>\n",
              "      <td>6.907891e+02</td>\n",
              "      <td>1.234942e+03</td>\n",
              "      <td>0.000000</td>\n",
              "      <td>54.000000</td>\n",
              "      <td>2.360000e+02</td>\n",
              "      <td>7.375000e+02</td>\n",
              "      <td>1.375200e+04</td>\n",
              "    </tr>\n",
              "  </tbody>\n",
              "</table>\n",
              "</div>\n",
              "      <button class=\"colab-df-convert\" onclick=\"convertToInteractive('df-d2643c08-e040-4293-83bf-81784c1904aa')\"\n",
              "              title=\"Convert this dataframe to an interactive table.\"\n",
              "              style=\"display:none;\">\n",
              "        \n",
              "  <svg xmlns=\"http://www.w3.org/2000/svg\" height=\"24px\"viewBox=\"0 0 24 24\"\n",
              "       width=\"24px\">\n",
              "    <path d=\"M0 0h24v24H0V0z\" fill=\"none\"/>\n",
              "    <path d=\"M18.56 5.44l.94 2.06.94-2.06 2.06-.94-2.06-.94-.94-2.06-.94 2.06-2.06.94zm-11 1L8.5 8.5l.94-2.06 2.06-.94-2.06-.94L8.5 2.5l-.94 2.06-2.06.94zm10 10l.94 2.06.94-2.06 2.06-.94-2.06-.94-.94-2.06-.94 2.06-2.06.94z\"/><path d=\"M17.41 7.96l-1.37-1.37c-.4-.4-.92-.59-1.43-.59-.52 0-1.04.2-1.43.59L10.3 9.45l-7.72 7.72c-.78.78-.78 2.05 0 2.83L4 21.41c.39.39.9.59 1.41.59.51 0 1.02-.2 1.41-.59l7.78-7.78 2.81-2.81c.8-.78.8-2.07 0-2.86zM5.41 20L4 18.59l7.72-7.72 1.47 1.35L5.41 20z\"/>\n",
              "  </svg>\n",
              "      </button>\n",
              "      \n",
              "  <style>\n",
              "    .colab-df-container {\n",
              "      display:flex;\n",
              "      flex-wrap:wrap;\n",
              "      gap: 12px;\n",
              "    }\n",
              "\n",
              "    .colab-df-convert {\n",
              "      background-color: #E8F0FE;\n",
              "      border: none;\n",
              "      border-radius: 50%;\n",
              "      cursor: pointer;\n",
              "      display: none;\n",
              "      fill: #1967D2;\n",
              "      height: 32px;\n",
              "      padding: 0 0 0 0;\n",
              "      width: 32px;\n",
              "    }\n",
              "\n",
              "    .colab-df-convert:hover {\n",
              "      background-color: #E2EBFA;\n",
              "      box-shadow: 0px 1px 2px rgba(60, 64, 67, 0.3), 0px 1px 3px 1px rgba(60, 64, 67, 0.15);\n",
              "      fill: #174EA6;\n",
              "    }\n",
              "\n",
              "    [theme=dark] .colab-df-convert {\n",
              "      background-color: #3B4455;\n",
              "      fill: #D2E3FC;\n",
              "    }\n",
              "\n",
              "    [theme=dark] .colab-df-convert:hover {\n",
              "      background-color: #434B5C;\n",
              "      box-shadow: 0px 1px 3px 1px rgba(0, 0, 0, 0.15);\n",
              "      filter: drop-shadow(0px 1px 2px rgba(0, 0, 0, 0.3));\n",
              "      fill: #FFFFFF;\n",
              "    }\n",
              "  </style>\n",
              "\n",
              "      <script>\n",
              "        const buttonEl =\n",
              "          document.querySelector('#df-d2643c08-e040-4293-83bf-81784c1904aa button.colab-df-convert');\n",
              "        buttonEl.style.display =\n",
              "          google.colab.kernel.accessAllowed ? 'block' : 'none';\n",
              "\n",
              "        async function convertToInteractive(key) {\n",
              "          const element = document.querySelector('#df-d2643c08-e040-4293-83bf-81784c1904aa');\n",
              "          const dataTable =\n",
              "            await google.colab.kernel.invokeFunction('convertToInteractive',\n",
              "                                                     [key], {});\n",
              "          if (!dataTable) return;\n",
              "\n",
              "          const docLinkHtml = 'Like what you see? Visit the ' +\n",
              "            '<a target=\"_blank\" href=https://colab.research.google.com/notebooks/data_table.ipynb>data table notebook</a>'\n",
              "            + ' to learn more about interactive tables.';\n",
              "          element.innerHTML = '';\n",
              "          dataTable['output_type'] = 'display_data';\n",
              "          await google.colab.output.renderOutput(dataTable, element);\n",
              "          const docLink = document.createElement('div');\n",
              "          docLink.innerHTML = docLinkHtml;\n",
              "          element.appendChild(docLink);\n",
              "        }\n",
              "      </script>\n",
              "    </div>\n",
              "  </div>\n",
              "  "
            ]
          },
          "metadata": {},
          "execution_count": 24
        }
      ],
      "source": [
        "### Give a very simple statistical analsys for the numerical columns ###\n",
        "df.describe().T"
      ],
      "id": "0ecf153d"
    },
    {
      "cell_type": "code",
      "execution_count": null,
      "metadata": {
        "colab": {
          "base_uri": "https://localhost:8080/"
        },
        "id": "78b98f6f",
        "outputId": "bd17f801-6deb-4a53-ed60-aa9fb6233167"
      },
      "outputs": [
        {
          "output_type": "stream",
          "name": "stdout",
          "text": [
            "    release_year  vote_average\n",
            "52          1980      6.609091\n",
            "71          1999      6.110526\n",
            "76          2004      6.104412\n",
            "89          2017      7.400000\n",
            "Average Movies Rate at 2009 is 6.065587\n"
          ]
        }
      ],
      "source": [
        "#creatr a release_year from the date values in release_date column\n",
        "df['release_year'] = pd.DatetimeIndex(df['release_date']).year\n",
        "df['release_year']\n",
        "### Calculate the mean rate for [1999, 1980, 2004, 2017] the movies grouped by years ###\n",
        "df_silce= df.groupby(['release_year'],as_index=False).vote_average.mean()\n",
        "print(df_silce[df_silce['release_year'].isin([1999, 1980, 2004, 2017])])\n",
        "### Ex: Average Movies Rate at 2009 is 6.065587 ###\n",
        "print(\"Average Movies Rate at 2009 is\",df_silce.loc[df_silce['release_year'] == 2009,'vote_average'].values[0].round(6))\n"
      ],
      "id": "78b98f6f"
    },
    {
      "cell_type": "code",
      "execution_count": null,
      "metadata": {
        "colab": {
          "base_uri": "https://localhost:8080/",
          "height": 716
        },
        "id": "117093cb",
        "outputId": "867743f5-364d-4725-aae2-4923ea6dc21c"
      },
      "outputs": [
        {
          "output_type": "execute_result",
          "data": {
            "text/plain": [
              "       budget                                             genres      id  \\\n",
              "0   237000000  [{\"id\": 28, \"name\": \"Action\"}, {\"id\": 12, \"nam...   19995   \n",
              "25  200000000  [{\"id\": 18, \"name\": \"Drama\"}, {\"id\": 10749, \"n...     597   \n",
              "28  150000000  [{\"id\": 28, \"name\": \"Action\"}, {\"id\": 12, \"nam...  135397   \n",
              "44  190000000                     [{\"id\": 28, \"name\": \"Action\"}]  168259   \n",
              "16  220000000  [{\"id\": 878, \"name\": \"Science Fiction\"}, {\"id\"...   24428   \n",
              "\n",
              "                                             keywords original_language  \\\n",
              "0   [{\"id\": 1463, \"name\": \"culture clash\"}, {\"id\":...                en   \n",
              "25  [{\"id\": 2580, \"name\": \"shipwreck\"}, {\"id\": 298...                en   \n",
              "28  [{\"id\": 1299, \"name\": \"monster\"}, {\"id\": 1718,...                en   \n",
              "44  [{\"id\": 830, \"name\": \"car race\"}, {\"id\": 3428,...                en   \n",
              "16  [{\"id\": 242, \"name\": \"new york\"}, {\"id\": 5539,...                en   \n",
              "\n",
              "    original_title                                           overview  \\\n",
              "0           Avatar  In the 22nd century, a paraplegic Marine is di...   \n",
              "25         Titanic  84 years later, a 101-year-old woman named Ros...   \n",
              "28  Jurassic World  Twenty-two years after the events of Jurassic ...   \n",
              "44       Furious 7  Deckard Shaw seeks revenge against Dominic Tor...   \n",
              "16    The Avengers  When an unexpected enemy emerges and threatens...   \n",
              "\n",
              "    popularity                               production_companies  \\\n",
              "0   150.437577  [{\"name\": \"Ingenious Film Partners\", \"id\": 289...   \n",
              "25  100.025899  [{\"name\": \"Paramount Pictures\", \"id\": 4}, {\"na...   \n",
              "28  418.708552  [{\"name\": \"Universal Studios\", \"id\": 13}, {\"na...   \n",
              "44  102.322217  [{\"name\": \"Universal Pictures\", \"id\": 33}, {\"n...   \n",
              "16  144.448633  [{\"name\": \"Paramount Pictures\", \"id\": 4}, {\"na...   \n",
              "\n",
              "                                 production_countries  ...     revenue  \\\n",
              "0   [{\"iso_3166_1\": \"US\", \"name\": \"United States o...  ...  2787965087   \n",
              "25  [{\"iso_3166_1\": \"US\", \"name\": \"United States o...  ...  1845034188   \n",
              "28  [{\"iso_3166_1\": \"US\", \"name\": \"United States o...  ...  1513528810   \n",
              "44  [{\"iso_3166_1\": \"JP\", \"name\": \"Japan\"}, {\"iso_...  ...  1506249360   \n",
              "16  [{\"iso_3166_1\": \"US\", \"name\": \"United States o...  ...  1519557910   \n",
              "\n",
              "    runtime                                   spoken_languages    status  \\\n",
              "0     162.0  [{\"iso_639_1\": \"en\", \"name\": \"English\"}, {\"iso...  Released   \n",
              "25    194.0  [{\"iso_639_1\": \"en\", \"name\": \"English\"}, {\"iso...  Released   \n",
              "28    124.0           [{\"iso_639_1\": \"en\", \"name\": \"English\"}]  Released   \n",
              "44    137.0           [{\"iso_639_1\": \"en\", \"name\": \"English\"}]  Released   \n",
              "16    143.0           [{\"iso_639_1\": \"en\", \"name\": \"English\"}]  Released   \n",
              "\n",
              "                                      tagline           title vote_average  \\\n",
              "0                 Enter the World of Pandora.          Avatar          7.2   \n",
              "25  Nothing on Earth could come between them.         Titanic          7.5   \n",
              "28                          The park is open.  Jurassic World          6.5   \n",
              "44                        Vengeance Hits Home       Furious 7          7.3   \n",
              "16                    Some assembly required.    The Avengers          7.4   \n",
              "\n",
              "    vote_count  release_year      Profit  \n",
              "0        11800          2009  2550965087  \n",
              "25        7562          1997  1645034188  \n",
              "28        8662          2015  1363528810  \n",
              "44        4176          2015  1316249360  \n",
              "16       11776          2012  1299557910  \n",
              "\n",
              "[5 rows x 21 columns]"
            ],
            "text/html": [
              "\n",
              "  <div id=\"df-8ee9e206-63cd-4438-a46f-0a7092640e3a\">\n",
              "    <div class=\"colab-df-container\">\n",
              "      <div>\n",
              "<style scoped>\n",
              "    .dataframe tbody tr th:only-of-type {\n",
              "        vertical-align: middle;\n",
              "    }\n",
              "\n",
              "    .dataframe tbody tr th {\n",
              "        vertical-align: top;\n",
              "    }\n",
              "\n",
              "    .dataframe thead th {\n",
              "        text-align: right;\n",
              "    }\n",
              "</style>\n",
              "<table border=\"1\" class=\"dataframe\">\n",
              "  <thead>\n",
              "    <tr style=\"text-align: right;\">\n",
              "      <th></th>\n",
              "      <th>budget</th>\n",
              "      <th>genres</th>\n",
              "      <th>id</th>\n",
              "      <th>keywords</th>\n",
              "      <th>original_language</th>\n",
              "      <th>original_title</th>\n",
              "      <th>overview</th>\n",
              "      <th>popularity</th>\n",
              "      <th>production_companies</th>\n",
              "      <th>production_countries</th>\n",
              "      <th>...</th>\n",
              "      <th>revenue</th>\n",
              "      <th>runtime</th>\n",
              "      <th>spoken_languages</th>\n",
              "      <th>status</th>\n",
              "      <th>tagline</th>\n",
              "      <th>title</th>\n",
              "      <th>vote_average</th>\n",
              "      <th>vote_count</th>\n",
              "      <th>release_year</th>\n",
              "      <th>Profit</th>\n",
              "    </tr>\n",
              "  </thead>\n",
              "  <tbody>\n",
              "    <tr>\n",
              "      <th>0</th>\n",
              "      <td>237000000</td>\n",
              "      <td>[{\"id\": 28, \"name\": \"Action\"}, {\"id\": 12, \"nam...</td>\n",
              "      <td>19995</td>\n",
              "      <td>[{\"id\": 1463, \"name\": \"culture clash\"}, {\"id\":...</td>\n",
              "      <td>en</td>\n",
              "      <td>Avatar</td>\n",
              "      <td>In the 22nd century, a paraplegic Marine is di...</td>\n",
              "      <td>150.437577</td>\n",
              "      <td>[{\"name\": \"Ingenious Film Partners\", \"id\": 289...</td>\n",
              "      <td>[{\"iso_3166_1\": \"US\", \"name\": \"United States o...</td>\n",
              "      <td>...</td>\n",
              "      <td>2787965087</td>\n",
              "      <td>162.0</td>\n",
              "      <td>[{\"iso_639_1\": \"en\", \"name\": \"English\"}, {\"iso...</td>\n",
              "      <td>Released</td>\n",
              "      <td>Enter the World of Pandora.</td>\n",
              "      <td>Avatar</td>\n",
              "      <td>7.2</td>\n",
              "      <td>11800</td>\n",
              "      <td>2009</td>\n",
              "      <td>2550965087</td>\n",
              "    </tr>\n",
              "    <tr>\n",
              "      <th>25</th>\n",
              "      <td>200000000</td>\n",
              "      <td>[{\"id\": 18, \"name\": \"Drama\"}, {\"id\": 10749, \"n...</td>\n",
              "      <td>597</td>\n",
              "      <td>[{\"id\": 2580, \"name\": \"shipwreck\"}, {\"id\": 298...</td>\n",
              "      <td>en</td>\n",
              "      <td>Titanic</td>\n",
              "      <td>84 years later, a 101-year-old woman named Ros...</td>\n",
              "      <td>100.025899</td>\n",
              "      <td>[{\"name\": \"Paramount Pictures\", \"id\": 4}, {\"na...</td>\n",
              "      <td>[{\"iso_3166_1\": \"US\", \"name\": \"United States o...</td>\n",
              "      <td>...</td>\n",
              "      <td>1845034188</td>\n",
              "      <td>194.0</td>\n",
              "      <td>[{\"iso_639_1\": \"en\", \"name\": \"English\"}, {\"iso...</td>\n",
              "      <td>Released</td>\n",
              "      <td>Nothing on Earth could come between them.</td>\n",
              "      <td>Titanic</td>\n",
              "      <td>7.5</td>\n",
              "      <td>7562</td>\n",
              "      <td>1997</td>\n",
              "      <td>1645034188</td>\n",
              "    </tr>\n",
              "    <tr>\n",
              "      <th>28</th>\n",
              "      <td>150000000</td>\n",
              "      <td>[{\"id\": 28, \"name\": \"Action\"}, {\"id\": 12, \"nam...</td>\n",
              "      <td>135397</td>\n",
              "      <td>[{\"id\": 1299, \"name\": \"monster\"}, {\"id\": 1718,...</td>\n",
              "      <td>en</td>\n",
              "      <td>Jurassic World</td>\n",
              "      <td>Twenty-two years after the events of Jurassic ...</td>\n",
              "      <td>418.708552</td>\n",
              "      <td>[{\"name\": \"Universal Studios\", \"id\": 13}, {\"na...</td>\n",
              "      <td>[{\"iso_3166_1\": \"US\", \"name\": \"United States o...</td>\n",
              "      <td>...</td>\n",
              "      <td>1513528810</td>\n",
              "      <td>124.0</td>\n",
              "      <td>[{\"iso_639_1\": \"en\", \"name\": \"English\"}]</td>\n",
              "      <td>Released</td>\n",
              "      <td>The park is open.</td>\n",
              "      <td>Jurassic World</td>\n",
              "      <td>6.5</td>\n",
              "      <td>8662</td>\n",
              "      <td>2015</td>\n",
              "      <td>1363528810</td>\n",
              "    </tr>\n",
              "    <tr>\n",
              "      <th>44</th>\n",
              "      <td>190000000</td>\n",
              "      <td>[{\"id\": 28, \"name\": \"Action\"}]</td>\n",
              "      <td>168259</td>\n",
              "      <td>[{\"id\": 830, \"name\": \"car race\"}, {\"id\": 3428,...</td>\n",
              "      <td>en</td>\n",
              "      <td>Furious 7</td>\n",
              "      <td>Deckard Shaw seeks revenge against Dominic Tor...</td>\n",
              "      <td>102.322217</td>\n",
              "      <td>[{\"name\": \"Universal Pictures\", \"id\": 33}, {\"n...</td>\n",
              "      <td>[{\"iso_3166_1\": \"JP\", \"name\": \"Japan\"}, {\"iso_...</td>\n",
              "      <td>...</td>\n",
              "      <td>1506249360</td>\n",
              "      <td>137.0</td>\n",
              "      <td>[{\"iso_639_1\": \"en\", \"name\": \"English\"}]</td>\n",
              "      <td>Released</td>\n",
              "      <td>Vengeance Hits Home</td>\n",
              "      <td>Furious 7</td>\n",
              "      <td>7.3</td>\n",
              "      <td>4176</td>\n",
              "      <td>2015</td>\n",
              "      <td>1316249360</td>\n",
              "    </tr>\n",
              "    <tr>\n",
              "      <th>16</th>\n",
              "      <td>220000000</td>\n",
              "      <td>[{\"id\": 878, \"name\": \"Science Fiction\"}, {\"id\"...</td>\n",
              "      <td>24428</td>\n",
              "      <td>[{\"id\": 242, \"name\": \"new york\"}, {\"id\": 5539,...</td>\n",
              "      <td>en</td>\n",
              "      <td>The Avengers</td>\n",
              "      <td>When an unexpected enemy emerges and threatens...</td>\n",
              "      <td>144.448633</td>\n",
              "      <td>[{\"name\": \"Paramount Pictures\", \"id\": 4}, {\"na...</td>\n",
              "      <td>[{\"iso_3166_1\": \"US\", \"name\": \"United States o...</td>\n",
              "      <td>...</td>\n",
              "      <td>1519557910</td>\n",
              "      <td>143.0</td>\n",
              "      <td>[{\"iso_639_1\": \"en\", \"name\": \"English\"}]</td>\n",
              "      <td>Released</td>\n",
              "      <td>Some assembly required.</td>\n",
              "      <td>The Avengers</td>\n",
              "      <td>7.4</td>\n",
              "      <td>11776</td>\n",
              "      <td>2012</td>\n",
              "      <td>1299557910</td>\n",
              "    </tr>\n",
              "  </tbody>\n",
              "</table>\n",
              "<p>5 rows × 21 columns</p>\n",
              "</div>\n",
              "      <button class=\"colab-df-convert\" onclick=\"convertToInteractive('df-8ee9e206-63cd-4438-a46f-0a7092640e3a')\"\n",
              "              title=\"Convert this dataframe to an interactive table.\"\n",
              "              style=\"display:none;\">\n",
              "        \n",
              "  <svg xmlns=\"http://www.w3.org/2000/svg\" height=\"24px\"viewBox=\"0 0 24 24\"\n",
              "       width=\"24px\">\n",
              "    <path d=\"M0 0h24v24H0V0z\" fill=\"none\"/>\n",
              "    <path d=\"M18.56 5.44l.94 2.06.94-2.06 2.06-.94-2.06-.94-.94-2.06-.94 2.06-2.06.94zm-11 1L8.5 8.5l.94-2.06 2.06-.94-2.06-.94L8.5 2.5l-.94 2.06-2.06.94zm10 10l.94 2.06.94-2.06 2.06-.94-2.06-.94-.94-2.06-.94 2.06-2.06.94z\"/><path d=\"M17.41 7.96l-1.37-1.37c-.4-.4-.92-.59-1.43-.59-.52 0-1.04.2-1.43.59L10.3 9.45l-7.72 7.72c-.78.78-.78 2.05 0 2.83L4 21.41c.39.39.9.59 1.41.59.51 0 1.02-.2 1.41-.59l7.78-7.78 2.81-2.81c.8-.78.8-2.07 0-2.86zM5.41 20L4 18.59l7.72-7.72 1.47 1.35L5.41 20z\"/>\n",
              "  </svg>\n",
              "      </button>\n",
              "      \n",
              "  <style>\n",
              "    .colab-df-container {\n",
              "      display:flex;\n",
              "      flex-wrap:wrap;\n",
              "      gap: 12px;\n",
              "    }\n",
              "\n",
              "    .colab-df-convert {\n",
              "      background-color: #E8F0FE;\n",
              "      border: none;\n",
              "      border-radius: 50%;\n",
              "      cursor: pointer;\n",
              "      display: none;\n",
              "      fill: #1967D2;\n",
              "      height: 32px;\n",
              "      padding: 0 0 0 0;\n",
              "      width: 32px;\n",
              "    }\n",
              "\n",
              "    .colab-df-convert:hover {\n",
              "      background-color: #E2EBFA;\n",
              "      box-shadow: 0px 1px 2px rgba(60, 64, 67, 0.3), 0px 1px 3px 1px rgba(60, 64, 67, 0.15);\n",
              "      fill: #174EA6;\n",
              "    }\n",
              "\n",
              "    [theme=dark] .colab-df-convert {\n",
              "      background-color: #3B4455;\n",
              "      fill: #D2E3FC;\n",
              "    }\n",
              "\n",
              "    [theme=dark] .colab-df-convert:hover {\n",
              "      background-color: #434B5C;\n",
              "      box-shadow: 0px 1px 3px 1px rgba(0, 0, 0, 0.15);\n",
              "      filter: drop-shadow(0px 1px 2px rgba(0, 0, 0, 0.3));\n",
              "      fill: #FFFFFF;\n",
              "    }\n",
              "  </style>\n",
              "\n",
              "      <script>\n",
              "        const buttonEl =\n",
              "          document.querySelector('#df-8ee9e206-63cd-4438-a46f-0a7092640e3a button.colab-df-convert');\n",
              "        buttonEl.style.display =\n",
              "          google.colab.kernel.accessAllowed ? 'block' : 'none';\n",
              "\n",
              "        async function convertToInteractive(key) {\n",
              "          const element = document.querySelector('#df-8ee9e206-63cd-4438-a46f-0a7092640e3a');\n",
              "          const dataTable =\n",
              "            await google.colab.kernel.invokeFunction('convertToInteractive',\n",
              "                                                     [key], {});\n",
              "          if (!dataTable) return;\n",
              "\n",
              "          const docLinkHtml = 'Like what you see? Visit the ' +\n",
              "            '<a target=\"_blank\" href=https://colab.research.google.com/notebooks/data_table.ipynb>data table notebook</a>'\n",
              "            + ' to learn more about interactive tables.';\n",
              "          element.innerHTML = '';\n",
              "          dataTable['output_type'] = 'display_data';\n",
              "          await google.colab.output.renderOutput(dataTable, element);\n",
              "          const docLink = document.createElement('div');\n",
              "          docLink.innerHTML = docLinkHtml;\n",
              "          element.appendChild(docLink);\n",
              "        }\n",
              "      </script>\n",
              "    </div>\n",
              "  </div>\n",
              "  "
            ]
          },
          "metadata": {},
          "execution_count": 26
        }
      ],
      "source": [
        "### Rearange the dataframe based on revenue - budget values ###\n",
        "df['Profit'] = df['revenue'] - df['budget']\n",
        "df_sorted = df.sort_values(['Profit'], ascending=[False])\n",
        "df_sorted.head()"
      ],
      "id": "117093cb"
    },
    {
      "cell_type": "code",
      "execution_count": null,
      "metadata": {
        "colab": {
          "base_uri": "https://localhost:8080/"
        },
        "id": "PtUEcF_2YZ2w",
        "outputId": "aae32ec8-3b48-4442-9567-8a0ab4c16556"
      },
      "outputs": [
        {
          "output_type": "stream",
          "name": "stdout",
          "text": [
            "the year with the largest movies released in ['Action', 'Romance'] is 2016\n"
          ]
        }
      ],
      "source": [
        "# Reformat the movie genres values \n",
        "import ast\n",
        "df.loc[:, 'genres'] = df['genres'].apply(lambda x: [i['name'] for i in ast.literal_eval(x)])\n",
        "#convert list item to string\n",
        "df['genres'] = [','.join(map(str, l)) for l in df['genres']]\n",
        "### Allocate the year with the largest movies released in ['Action', 'Romance'] ###\n",
        "print(\"the year with the largest movies released in ['Action', 'Romance'] is\",df[df['genres'] == 'Romance,Action']['release_year'].values[0])"
      ],
      "id": "PtUEcF_2YZ2w"
    },
    {
      "cell_type": "code",
      "execution_count": null,
      "metadata": {
        "colab": {
          "base_uri": "https://localhost:8080/"
        },
        "id": "74517a71",
        "outputId": "d8015fb7-6004-45a6-c306-e4d58a98603f"
      },
      "outputs": [
        {
          "output_type": "execute_result",
          "data": {
            "text/plain": [
              "array(['Avatar', 'Titanic', 'Jurassic World', 'Furious 7', 'The Avengers'],\n",
              "      dtype=object)"
            ]
          },
          "metadata": {},
          "execution_count": 31
        }
      ],
      "source": [
        "### Find the movies with top 5 revenue - budget value ###\n",
        "filterd_df =df.sort_values(['Profit'], ascending=[False]).head()\n",
        "filterd_df['original_title'].values"
      ],
      "id": "74517a71"
    },
    {
      "cell_type": "code",
      "execution_count": null,
      "metadata": {
        "colab": {
          "base_uri": "https://localhost:8080/"
        },
        "id": "8ae0da0e",
        "outputId": "bde4001c-1e12-43ae-cfc7-2bc21303b0da"
      },
      "outputs": [
        {
          "output_type": "stream",
          "name": "stdout",
          "text": [
            "   release_year   id\n",
            "0          2009  247\n",
            "the year with the highest number of movies release is: 2009\n"
          ]
        }
      ],
      "source": [
        "### Find the year with the highest number of movies release ###\n",
        "data=df.groupby('release_year').count()['id'].sort_values(ascending=False).to_frame().reset_index()\n",
        "print(data.head(1))\n",
        "print(\"the year with the highest number of movies release is:\",data['release_year'].head(1).values[0])"
      ],
      "id": "8ae0da0e"
    },
    {
      "cell_type": "code",
      "execution_count": null,
      "metadata": {
        "colab": {
          "base_uri": "https://localhost:8080/"
        },
        "id": "f5d4edda",
        "outputId": "fa9b19e3-7683-423c-d73a-27d50f4c3f37"
      },
      "outputs": [
        {
          "output_type": "stream",
          "name": "stdout",
          "text": [
            "the top 2 countries with the highest production movies number are: ['United States of America' 'United Kingdom,United States of America']\n"
          ]
        }
      ],
      "source": [
        "### Find the top 2 countries with the highest production movies number ###\n",
        "import ast\n",
        "df.loc[:, 'production_countries'] = df['production_countries'].apply(lambda x: [i['name'] for i in ast.literal_eval(x)])\n",
        "#convert list item to string\n",
        "df['production_countries'] = [','.join(map(str, l)) for l in df['production_countries']]\n",
        "data=df['production_countries'].value_counts().sort_values(ascending=False).to_frame().reset_index()\n",
        "print(\"the top 2 countries with the highest production movies number are:\",data['index'].head(2).values)\n"
      ],
      "id": "f5d4edda"
    },
    {
      "cell_type": "code",
      "execution_count": null,
      "metadata": {
        "colab": {
          "base_uri": "https://localhost:8080/"
        },
        "id": "6c162029",
        "outputId": "781e298c-d1f4-402b-aedd-f05340993659"
      },
      "outputs": [
        {
          "output_type": "stream",
          "name": "stdout",
          "text": [
            "the top 1 company with the highest production movies number is Paramount Pictures\n"
          ]
        }
      ],
      "source": [
        "### Find the top 1 company with the highest production movies number ###\n",
        "import ast\n",
        "df.loc[:, 'production_companies'] = df['production_companies'].apply(lambda x: [i['name'] for i in ast.literal_eval(x)])\n",
        "#convert list item to string\n",
        "df['production_companies'] = [','.join(map(str, l)) for l in df['production_companies']]\n",
        "data2=df['production_companies'].value_counts().sort_values(ascending=False).to_frame().reset_index()\n",
        "#Remove rows containing blank space \n",
        "data2.replace('', np.nan, inplace=True)\n",
        "data2.dropna(inplace=True)\n",
        "print(\"the top 1 company with the highest production movies number is\",data2['index'].head(1).values[0])\n"
      ],
      "id": "6c162029"
    },
    {
      "cell_type": "code",
      "execution_count": null,
      "metadata": {
        "colab": {
          "base_uri": "https://localhost:8080/",
          "height": 301
        },
        "id": "g1xR5P6EiUST",
        "outputId": "8c486e9f-6cc3-4e5a-d438-2e2b23f21342"
      },
      "outputs": [
        {
          "output_type": "stream",
          "name": "stdout",
          "text": [
            "Correlation between  vote_average  and  runtime is:  0.37\n"
          ]
        },
        {
          "output_type": "execute_result",
          "data": {
            "text/plain": [
              "Text(1, 17, 'y = 63.84 + 7.07x')"
            ]
          },
          "metadata": {},
          "execution_count": 35
        },
        {
          "output_type": "display_data",
          "data": {
            "text/plain": [
              "<Figure size 432x288 with 1 Axes>"
            ],
            "image/png": "[encoded data removed]"
          },
          "metadata": {
            "needs_background": "light"
          }
        }
      ],
      "source": [
        "### Is there any relation between the runtime and average vote value ### **\n",
        "#scatter plot is useful for examining the relationship between two numerical variables. \n",
        "import matplotlib.pyplot as plt\n",
        "x=df['vote_average']\n",
        "y=df['runtime']\n",
        "corr = df['vote_average'].corr(df['runtime'])\n",
        "print(\"Correlation between \", 'vote_average', \" and \", 'runtime', \"is: \", round(corr, 2))\n",
        "#find line of best fit\n",
        "a, b = np.polyfit(x, y, 1)\n",
        "\n",
        "#add points to plot\n",
        "plt.scatter(x, y, color='purple')\n",
        "\n",
        "#add line of best fit to plot\n",
        "plt.plot(x, a*x+b, color='steelblue', linestyle='--', linewidth=2)\n",
        "\n",
        "#add fitted regression equation to plot\n",
        "plt.text(1, 17, 'y = ' + '{:.2f}'.format(b) + ' + {:.2f}'.format(a) + 'x', size=14)"
      ],
      "id": "g1xR5P6EiUST"
    },
    {
      "cell_type": "code",
      "execution_count": null,
      "metadata": {
        "colab": {
          "base_uri": "https://localhost:8080/"
        },
        "id": "6dd073a2",
        "outputId": "1edcf35d-038c-4a2f-8100-2a44545d4471"
      },
      "outputs": [
        {
          "output_type": "stream",
          "name": "stdout",
          "text": [
            "             original_title  vote_average\n",
            "4247  Me You and Five Bucks          10.0\n",
            "4662         Little Big Top          10.0\n",
            "4045  Dancer, Texas Pop. 81          10.0\n",
            "3519       Stiff Upper Lips          10.0\n",
            "3992              Sardaarji           9.5\n",
            "the top 5 movies with the highest rate are  ['Me You and Five Bucks' 'Little Big Top' 'Dancer, Texas Pop. 81'\n",
            " 'Stiff Upper Lips' 'Sardaarji']\n"
          ]
        }
      ],
      "source": [
        "### Find the top 5 movies with the highest rate, and find if there anything common between them. ###\n",
        "sorted_df = df.sort_values(by=['vote_average'], ascending=False)\n",
        "new_sorted_df=sorted_df[['original_title','vote_average']].head()\n",
        "print(new_sorted_df)\n",
        "#the top four movies have the same rate\n",
        "print('the top 5 movies with the highest rate are ',new_sorted_df['original_title'].values)"
      ],
      "id": "6dd073a2"
    },
    {
      "cell_type": "code",
      "execution_count": null,
      "metadata": {
        "colab": {
          "base_uri": "https://localhost:8080/"
        },
        "id": "7ec87260",
        "outputId": "e494e84d-f094-484c-8a2c-0a0b5716fd0b"
      },
      "outputs": [
        {
          "output_type": "stream",
          "name": "stdout",
          "text": [
            "the most unsuccessful movie along time in terms of revenue - budget is  The Lone Ranger\n"
          ]
        }
      ],
      "source": [
        "### Find the most unsuccessful movie along time in terms of revenue - budget ###\n",
        "sorted_df = df.sort_values(by=['Profit'], ascending=True)\n",
        "print('the most unsuccessful movie along time in terms of revenue - budget is ',sorted_df['original_title'].head(1).values[0])"
      ],
      "id": "7ec87260"
    },
    {
      "cell_type": "code",
      "execution_count": null,
      "metadata": {
        "colab": {
          "base_uri": "https://localhost:8080/",
          "height": 681
        },
        "id": "f33e1ef0",
        "outputId": "f8e02793-b553-4bfb-f87c-cab9c87ddebb"
      },
      "outputs": [
        {
          "output_type": "execute_result",
          "data": {
            "text/plain": [
              "      budget        genres      id  \\\n",
              "4486  700000         Drama  302579   \n",
              "4665       0       Western  376010   \n",
              "3669       0  Comedy,Drama  113406   \n",
              "4674       0                194588   \n",
              "3670       0        Family  447027   \n",
              "\n",
              "                                               keywords original_language  \\\n",
              "4486  [{\"id\": 10322, \"name\": \"native american\"}, {\"i...                en   \n",
              "4665                                                 []                en   \n",
              "3669                                                 []                en   \n",
              "4674                                                 []                en   \n",
              "3670                                                 []                en   \n",
              "\n",
              "                        original_title  \\\n",
              "4486                  Naturally Native   \n",
              "4665                  Western Religion   \n",
              "3669              Should've Been Romeo   \n",
              "4674  Short Cut to Nirvana: Kumbh Mela   \n",
              "3670                   Running Forever   \n",
              "\n",
              "                                               overview  popularity  \\\n",
              "4486  Naturally Native follows the lives, loves, pai...    0.578798   \n",
              "4665  The year is 1879. Gunfighters from the far rea...    0.589540   \n",
              "3669  A self-centered, middle-aged pitchman for a po...    0.407030   \n",
              "4674  Every 12 years over 70 million pilgrims gather...    0.004998   \n",
              "3670  After being estranged since her mother's death...    0.028756   \n",
              "\n",
              "         production_companies      production_countries  ... revenue  runtime  \\\n",
              "4486         Red-horse Native  United States of America  ...   10508    107.0   \n",
              "4665  3rd Partner Productions  United States of America  ...       0    106.0   \n",
              "3669        Phillybrook Films  United States of America  ...       0      0.0   \n",
              "4674                                                     ...       0     85.0   \n",
              "3670     New Kingdom Pictures  United States of America  ...       0     88.0   \n",
              "\n",
              "                              spoken_languages    status  \\\n",
              "4486  [{\"iso_639_1\": \"en\", \"name\": \"English\"}]  Released   \n",
              "4665  [{\"iso_639_1\": \"en\", \"name\": \"English\"}]  Released   \n",
              "3669  [{\"iso_639_1\": \"en\", \"name\": \"English\"}]  Released   \n",
              "4674                                        []  Released   \n",
              "3670                                        []  Released   \n",
              "\n",
              "                                                tagline  \\\n",
              "4486  Sometimes When You're Going Home, It's Importa...   \n",
              "4665        Your soul is at stake in Religion, Arizona.   \n",
              "3669       Even Shakespeare didn't see this one coming.   \n",
              "4674                                            unknown   \n",
              "3670                                            unknown   \n",
              "\n",
              "                                 title vote_average  vote_count  release_year  \\\n",
              "4486                  Naturally Native          0.0           0          1999   \n",
              "4665                  Western Religion          0.0           0          2015   \n",
              "3669              Should've Been Romeo          0.0           0          2012   \n",
              "4674  Short Cut to Nirvana: Kumbh Mela          0.0           0          2004   \n",
              "3670                   Running Forever          0.0           0          2015   \n",
              "\n",
              "      Profit  \n",
              "4486 -689492  \n",
              "4665       0  \n",
              "3669       0  \n",
              "4674       0  \n",
              "3670       0  \n",
              "\n",
              "[5 rows x 21 columns]"
            ],
            "text/html": [
              "\n",
              "  <div id=\"df-258141de-af0c-4e61-963a-e0db659ab121\">\n",
              "    <div class=\"colab-df-container\">\n",
              "      <div>\n",
              "<style scoped>\n",
              "    .dataframe tbody tr th:only-of-type {\n",
              "        vertical-align: middle;\n",
              "    }\n",
              "\n",
              "    .dataframe tbody tr th {\n",
              "        vertical-align: top;\n",
              "    }\n",
              "\n",
              "    .dataframe thead th {\n",
              "        text-align: right;\n",
              "    }\n",
              "</style>\n",
              "<table border=\"1\" class=\"dataframe\">\n",
              "  <thead>\n",
              "    <tr style=\"text-align: right;\">\n",
              "      <th></th>\n",
              "      <th>budget</th>\n",
              "      <th>genres</th>\n",
              "      <th>id</th>\n",
              "      <th>keywords</th>\n",
              "      <th>original_language</th>\n",
              "      <th>original_title</th>\n",
              "      <th>overview</th>\n",
              "      <th>popularity</th>\n",
              "      <th>production_companies</th>\n",
              "      <th>production_countries</th>\n",
              "      <th>...</th>\n",
              "      <th>revenue</th>\n",
              "      <th>runtime</th>\n",
              "      <th>spoken_languages</th>\n",
              "      <th>status</th>\n",
              "      <th>tagline</th>\n",
              "      <th>title</th>\n",
              "      <th>vote_average</th>\n",
              "      <th>vote_count</th>\n",
              "      <th>release_year</th>\n",
              "      <th>Profit</th>\n",
              "    </tr>\n",
              "  </thead>\n",
              "  <tbody>\n",
              "    <tr>\n",
              "      <th>4486</th>\n",
              "      <td>700000</td>\n",
              "      <td>Drama</td>\n",
              "      <td>302579</td>\n",
              "      <td>[{\"id\": 10322, \"name\": \"native american\"}, {\"i...</td>\n",
              "      <td>en</td>\n",
              "      <td>Naturally Native</td>\n",
              "      <td>Naturally Native follows the lives, loves, pai...</td>\n",
              "      <td>0.578798</td>\n",
              "      <td>Red-horse Native</td>\n",
              "      <td>United States of America</td>\n",
              "      <td>...</td>\n",
              "      <td>10508</td>\n",
              "      <td>107.0</td>\n",
              "      <td>[{\"iso_639_1\": \"en\", \"name\": \"English\"}]</td>\n",
              "      <td>Released</td>\n",
              "      <td>Sometimes When You're Going Home, It's Importa...</td>\n",
              "      <td>Naturally Native</td>\n",
              "      <td>0.0</td>\n",
              "      <td>0</td>\n",
              "      <td>1999</td>\n",
              "      <td>-689492</td>\n",
              "    </tr>\n",
              "    <tr>\n",
              "      <th>4665</th>\n",
              "      <td>0</td>\n",
              "      <td>Western</td>\n",
              "      <td>376010</td>\n",
              "      <td>[]</td>\n",
              "      <td>en</td>\n",
              "      <td>Western Religion</td>\n",
              "      <td>The year is 1879. Gunfighters from the far rea...</td>\n",
              "      <td>0.589540</td>\n",
              "      <td>3rd Partner Productions</td>\n",
              "      <td>United States of America</td>\n",
              "      <td>...</td>\n",
              "      <td>0</td>\n",
              "      <td>106.0</td>\n",
              "      <td>[{\"iso_639_1\": \"en\", \"name\": \"English\"}]</td>\n",
              "      <td>Released</td>\n",
              "      <td>Your soul is at stake in Religion, Arizona.</td>\n",
              "      <td>Western Religion</td>\n",
              "      <td>0.0</td>\n",
              "      <td>0</td>\n",
              "      <td>2015</td>\n",
              "      <td>0</td>\n",
              "    </tr>\n",
              "    <tr>\n",
              "      <th>3669</th>\n",
              "      <td>0</td>\n",
              "      <td>Comedy,Drama</td>\n",
              "      <td>113406</td>\n",
              "      <td>[]</td>\n",
              "      <td>en</td>\n",
              "      <td>Should've Been Romeo</td>\n",
              "      <td>A self-centered, middle-aged pitchman for a po...</td>\n",
              "      <td>0.407030</td>\n",
              "      <td>Phillybrook Films</td>\n",
              "      <td>United States of America</td>\n",
              "      <td>...</td>\n",
              "      <td>0</td>\n",
              "      <td>0.0</td>\n",
              "      <td>[{\"iso_639_1\": \"en\", \"name\": \"English\"}]</td>\n",
              "      <td>Released</td>\n",
              "      <td>Even Shakespeare didn't see this one coming.</td>\n",
              "      <td>Should've Been Romeo</td>\n",
              "      <td>0.0</td>\n",
              "      <td>0</td>\n",
              "      <td>2012</td>\n",
              "      <td>0</td>\n",
              "    </tr>\n",
              "    <tr>\n",
              "      <th>4674</th>\n",
              "      <td>0</td>\n",
              "      <td></td>\n",
              "      <td>194588</td>\n",
              "      <td>[]</td>\n",
              "      <td>en</td>\n",
              "      <td>Short Cut to Nirvana: Kumbh Mela</td>\n",
              "      <td>Every 12 years over 70 million pilgrims gather...</td>\n",
              "      <td>0.004998</td>\n",
              "      <td></td>\n",
              "      <td></td>\n",
              "      <td>...</td>\n",
              "      <td>0</td>\n",
              "      <td>85.0</td>\n",
              "      <td>[]</td>\n",
              "      <td>Released</td>\n",
              "      <td>unknown</td>\n",
              "      <td>Short Cut to Nirvana: Kumbh Mela</td>\n",
              "      <td>0.0</td>\n",
              "      <td>0</td>\n",
              "      <td>2004</td>\n",
              "      <td>0</td>\n",
              "    </tr>\n",
              "    <tr>\n",
              "      <th>3670</th>\n",
              "      <td>0</td>\n",
              "      <td>Family</td>\n",
              "      <td>447027</td>\n",
              "      <td>[]</td>\n",
              "      <td>en</td>\n",
              "      <td>Running Forever</td>\n",
              "      <td>After being estranged since her mother's death...</td>\n",
              "      <td>0.028756</td>\n",
              "      <td>New Kingdom Pictures</td>\n",
              "      <td>United States of America</td>\n",
              "      <td>...</td>\n",
              "      <td>0</td>\n",
              "      <td>88.0</td>\n",
              "      <td>[]</td>\n",
              "      <td>Released</td>\n",
              "      <td>unknown</td>\n",
              "      <td>Running Forever</td>\n",
              "      <td>0.0</td>\n",
              "      <td>0</td>\n",
              "      <td>2015</td>\n",
              "      <td>0</td>\n",
              "    </tr>\n",
              "  </tbody>\n",
              "</table>\n",
              "<p>5 rows × 21 columns</p>\n",
              "</div>\n",
              "      <button class=\"colab-df-convert\" onclick=\"convertToInteractive('df-258141de-af0c-4e61-963a-e0db659ab121')\"\n",
              "              title=\"Convert this dataframe to an interactive table.\"\n",
              "              style=\"display:none;\">\n",
              "        \n",
              "  <svg xmlns=\"http://www.w3.org/2000/svg\" height=\"24px\"viewBox=\"0 0 24 24\"\n",
              "       width=\"24px\">\n",
              "    <path d=\"M0 0h24v24H0V0z\" fill=\"none\"/>\n",
              "    <path d=\"M18.56 5.44l.94 2.06.94-2.06 2.06-.94-2.06-.94-.94-2.06-.94 2.06-2.06.94zm-11 1L8.5 8.5l.94-2.06 2.06-.94-2.06-.94L8.5 2.5l-.94 2.06-2.06.94zm10 10l.94 2.06.94-2.06 2.06-.94-2.06-.94-.94-2.06-.94 2.06-2.06.94z\"/><path d=\"M17.41 7.96l-1.37-1.37c-.4-.4-.92-.59-1.43-.59-.52 0-1.04.2-1.43.59L10.3 9.45l-7.72 7.72c-.78.78-.78 2.05 0 2.83L4 21.41c.39.39.9.59 1.41.59.51 0 1.02-.2 1.41-.59l7.78-7.78 2.81-2.81c.8-.78.8-2.07 0-2.86zM5.41 20L4 18.59l7.72-7.72 1.47 1.35L5.41 20z\"/>\n",
              "  </svg>\n",
              "      </button>\n",
              "      \n",
              "  <style>\n",
              "    .colab-df-container {\n",
              "      display:flex;\n",
              "      flex-wrap:wrap;\n",
              "      gap: 12px;\n",
              "    }\n",
              "\n",
              "    .colab-df-convert {\n",
              "      background-color: #E8F0FE;\n",
              "      border: none;\n",
              "      border-radius: 50%;\n",
              "      cursor: pointer;\n",
              "      display: none;\n",
              "      fill: #1967D2;\n",
              "      height: 32px;\n",
              "      padding: 0 0 0 0;\n",
              "      width: 32px;\n",
              "    }\n",
              "\n",
              "    .colab-df-convert:hover {\n",
              "      background-color: #E2EBFA;\n",
              "      box-shadow: 0px 1px 2px rgba(60, 64, 67, 0.3), 0px 1px 3px 1px rgba(60, 64, 67, 0.15);\n",
              "      fill: #174EA6;\n",
              "    }\n",
              "\n",
              "    [theme=dark] .colab-df-convert {\n",
              "      background-color: #3B4455;\n",
              "      fill: #D2E3FC;\n",
              "    }\n",
              "\n",
              "    [theme=dark] .colab-df-convert:hover {\n",
              "      background-color: #434B5C;\n",
              "      box-shadow: 0px 1px 3px 1px rgba(0, 0, 0, 0.15);\n",
              "      filter: drop-shadow(0px 1px 2px rgba(0, 0, 0, 0.3));\n",
              "      fill: #FFFFFF;\n",
              "    }\n",
              "  </style>\n",
              "\n",
              "      <script>\n",
              "        const buttonEl =\n",
              "          document.querySelector('#df-258141de-af0c-4e61-963a-e0db659ab121 button.colab-df-convert');\n",
              "        buttonEl.style.display =\n",
              "          google.colab.kernel.accessAllowed ? 'block' : 'none';\n",
              "\n",
              "        async function convertToInteractive(key) {\n",
              "          const element = document.querySelector('#df-258141de-af0c-4e61-963a-e0db659ab121');\n",
              "          const dataTable =\n",
              "            await google.colab.kernel.invokeFunction('convertToInteractive',\n",
              "                                                     [key], {});\n",
              "          if (!dataTable) return;\n",
              "\n",
              "          const docLinkHtml = 'Like what you see? Visit the ' +\n",
              "            '<a target=\"_blank\" href=https://colab.research.google.com/notebooks/data_table.ipynb>data table notebook</a>'\n",
              "            + ' to learn more about interactive tables.';\n",
              "          element.innerHTML = '';\n",
              "          dataTable['output_type'] = 'display_data';\n",
              "          await google.colab.output.renderOutput(dataTable, element);\n",
              "          const docLink = document.createElement('div');\n",
              "          docLink.innerHTML = docLinkHtml;\n",
              "          element.appendChild(docLink);\n",
              "        }\n",
              "      </script>\n",
              "    </div>\n",
              "  </div>\n",
              "  "
            ]
          },
          "metadata": {},
          "execution_count": 38
        }
      ],
      "source": [
        "### Rearange the dataframe based on vote_average column values ###\n",
        "sorted_vote_average_df = df.sort_values(by=['vote_average'], ascending=True)\n",
        "sorted_vote_average_df.head()"
      ],
      "id": "f33e1ef0"
    },
    {
      "cell_type": "code",
      "execution_count": null,
      "metadata": {
        "colab": {
          "base_uri": "https://localhost:8080/",
          "height": 664
        },
        "id": "7afae7b1",
        "outputId": "b8336a6c-064a-4869-ba84-81b141614f9e"
      },
      "outputs": [
        {
          "output_type": "execute_result",
          "data": {
            "text/plain": [
              "      budget                  genres      id  \\\n",
              "4584       0           Horror,Comedy  189711   \n",
              "4658       0         Horror,Thriller  150211   \n",
              "4657       0                          320435   \n",
              "4633       0                          300327   \n",
              "4620       0  Action,Adventure,Drama   47534   \n",
              "\n",
              "                                               keywords original_language  \\\n",
              "4584                                                 []                en   \n",
              "4658  [{\"id\": 177972, \"name\": \"bickering\"}, {\"id\": 2...                en   \n",
              "4657                                                 []                en   \n",
              "4633                                                 []                en   \n",
              "4620  [{\"id\": 2792, \"name\": \"boxer\"}, {\"id\": 4076, \"...                en   \n",
              "\n",
              "                    original_title  \\\n",
              "4584  Love in the Time of Monsters   \n",
              "4658                    The Frozen   \n",
              "4657                     UnDivided   \n",
              "4633                   Death Calls   \n",
              "4620          Fighting Tommy Riley   \n",
              "\n",
              "                                               overview  popularity  \\\n",
              "4584  Two sisters travel to a cheesy tourist trap wh...    0.133619   \n",
              "4658  After a harrowing snowmobile accident, a young...    1.084387   \n",
              "4657  UnDivided documents the true story of how a su...    0.010607   \n",
              "4633  An action-packed love story on the Mexican bor...    0.005883   \n",
              "4620  An aging trainer and a young fighter, both in ...    0.045429   \n",
              "\n",
              "            production_companies      production_countries  ... revenue  \\\n",
              "4584  Red Cube Picture,TBC Films  United States of America  ...       0   \n",
              "4658                                                        ...       0   \n",
              "4657                                                        ...       0   \n",
              "4633                                                        ...       0   \n",
              "4620                                                        ...       0   \n",
              "\n",
              "      runtime                          spoken_languages    status  tagline  \\\n",
              "4584      0.0                                        []  Released  unknown   \n",
              "4658      0.0                                        []  Released  unknown   \n",
              "4657      0.0                                        []  Released  unknown   \n",
              "4633      0.0                                        []  Released  unknown   \n",
              "4620      0.0  [{\"iso_639_1\": \"en\", \"name\": \"English\"}]  Released  unknown   \n",
              "\n",
              "                             title vote_average  vote_count  release_year  \\\n",
              "4584  Love in the Time of Monsters          5.0           2          2014   \n",
              "4658                    The Frozen          4.2          14          2012   \n",
              "4657                     UnDivided          0.0           0          2013   \n",
              "4633                   Death Calls          0.0           0          2010   \n",
              "4620          Fighting Tommy Riley          5.3           4          2005   \n",
              "\n",
              "      Profit  \n",
              "4584       0  \n",
              "4658       0  \n",
              "4657       0  \n",
              "4633       0  \n",
              "4620       0  \n",
              "\n",
              "[5 rows x 21 columns]"
            ],
            "text/html": [
              "\n",
              "  <div id=\"df-35b80ab2-1a97-484f-b5e6-ab7308a72fcb\">\n",
              "    <div class=\"colab-df-container\">\n",
              "      <div>\n",
              "<style scoped>\n",
              "    .dataframe tbody tr th:only-of-type {\n",
              "        vertical-align: middle;\n",
              "    }\n",
              "\n",
              "    .dataframe tbody tr th {\n",
              "        vertical-align: top;\n",
              "    }\n",
              "\n",
              "    .dataframe thead th {\n",
              "        text-align: right;\n",
              "    }\n",
              "</style>\n",
              "<table border=\"1\" class=\"dataframe\">\n",
              "  <thead>\n",
              "    <tr style=\"text-align: right;\">\n",
              "      <th></th>\n",
              "      <th>budget</th>\n",
              "      <th>genres</th>\n",
              "      <th>id</th>\n",
              "      <th>keywords</th>\n",
              "      <th>original_language</th>\n",
              "      <th>original_title</th>\n",
              "      <th>overview</th>\n",
              "      <th>popularity</th>\n",
              "      <th>production_companies</th>\n",
              "      <th>production_countries</th>\n",
              "      <th>...</th>\n",
              "      <th>revenue</th>\n",
              "      <th>runtime</th>\n",
              "      <th>spoken_languages</th>\n",
              "      <th>status</th>\n",
              "      <th>tagline</th>\n",
              "      <th>title</th>\n",
              "      <th>vote_average</th>\n",
              "      <th>vote_count</th>\n",
              "      <th>release_year</th>\n",
              "      <th>Profit</th>\n",
              "    </tr>\n",
              "  </thead>\n",
              "  <tbody>\n",
              "    <tr>\n",
              "      <th>4584</th>\n",
              "      <td>0</td>\n",
              "      <td>Horror,Comedy</td>\n",
              "      <td>189711</td>\n",
              "      <td>[]</td>\n",
              "      <td>en</td>\n",
              "      <td>Love in the Time of Monsters</td>\n",
              "      <td>Two sisters travel to a cheesy tourist trap wh...</td>\n",
              "      <td>0.133619</td>\n",
              "      <td>Red Cube Picture,TBC Films</td>\n",
              "      <td>United States of America</td>\n",
              "      <td>...</td>\n",
              "      <td>0</td>\n",
              "      <td>0.0</td>\n",
              "      <td>[]</td>\n",
              "      <td>Released</td>\n",
              "      <td>unknown</td>\n",
              "      <td>Love in the Time of Monsters</td>\n",
              "      <td>5.0</td>\n",
              "      <td>2</td>\n",
              "      <td>2014</td>\n",
              "      <td>0</td>\n",
              "    </tr>\n",
              "    <tr>\n",
              "      <th>4658</th>\n",
              "      <td>0</td>\n",
              "      <td>Horror,Thriller</td>\n",
              "      <td>150211</td>\n",
              "      <td>[{\"id\": 177972, \"name\": \"bickering\"}, {\"id\": 2...</td>\n",
              "      <td>en</td>\n",
              "      <td>The Frozen</td>\n",
              "      <td>After a harrowing snowmobile accident, a young...</td>\n",
              "      <td>1.084387</td>\n",
              "      <td></td>\n",
              "      <td></td>\n",
              "      <td>...</td>\n",
              "      <td>0</td>\n",
              "      <td>0.0</td>\n",
              "      <td>[]</td>\n",
              "      <td>Released</td>\n",
              "      <td>unknown</td>\n",
              "      <td>The Frozen</td>\n",
              "      <td>4.2</td>\n",
              "      <td>14</td>\n",
              "      <td>2012</td>\n",
              "      <td>0</td>\n",
              "    </tr>\n",
              "    <tr>\n",
              "      <th>4657</th>\n",
              "      <td>0</td>\n",
              "      <td></td>\n",
              "      <td>320435</td>\n",
              "      <td>[]</td>\n",
              "      <td>en</td>\n",
              "      <td>UnDivided</td>\n",
              "      <td>UnDivided documents the true story of how a su...</td>\n",
              "      <td>0.010607</td>\n",
              "      <td></td>\n",
              "      <td></td>\n",
              "      <td>...</td>\n",
              "      <td>0</td>\n",
              "      <td>0.0</td>\n",
              "      <td>[]</td>\n",
              "      <td>Released</td>\n",
              "      <td>unknown</td>\n",
              "      <td>UnDivided</td>\n",
              "      <td>0.0</td>\n",
              "      <td>0</td>\n",
              "      <td>2013</td>\n",
              "      <td>0</td>\n",
              "    </tr>\n",
              "    <tr>\n",
              "      <th>4633</th>\n",
              "      <td>0</td>\n",
              "      <td></td>\n",
              "      <td>300327</td>\n",
              "      <td>[]</td>\n",
              "      <td>en</td>\n",
              "      <td>Death Calls</td>\n",
              "      <td>An action-packed love story on the Mexican bor...</td>\n",
              "      <td>0.005883</td>\n",
              "      <td></td>\n",
              "      <td></td>\n",
              "      <td>...</td>\n",
              "      <td>0</td>\n",
              "      <td>0.0</td>\n",
              "      <td>[]</td>\n",
              "      <td>Released</td>\n",
              "      <td>unknown</td>\n",
              "      <td>Death Calls</td>\n",
              "      <td>0.0</td>\n",
              "      <td>0</td>\n",
              "      <td>2010</td>\n",
              "      <td>0</td>\n",
              "    </tr>\n",
              "    <tr>\n",
              "      <th>4620</th>\n",
              "      <td>0</td>\n",
              "      <td>Action,Adventure,Drama</td>\n",
              "      <td>47534</td>\n",
              "      <td>[{\"id\": 2792, \"name\": \"boxer\"}, {\"id\": 4076, \"...</td>\n",
              "      <td>en</td>\n",
              "      <td>Fighting Tommy Riley</td>\n",
              "      <td>An aging trainer and a young fighter, both in ...</td>\n",
              "      <td>0.045429</td>\n",
              "      <td></td>\n",
              "      <td></td>\n",
              "      <td>...</td>\n",
              "      <td>0</td>\n",
              "      <td>0.0</td>\n",
              "      <td>[{\"iso_639_1\": \"en\", \"name\": \"English\"}]</td>\n",
              "      <td>Released</td>\n",
              "      <td>unknown</td>\n",
              "      <td>Fighting Tommy Riley</td>\n",
              "      <td>5.3</td>\n",
              "      <td>4</td>\n",
              "      <td>2005</td>\n",
              "      <td>0</td>\n",
              "    </tr>\n",
              "  </tbody>\n",
              "</table>\n",
              "<p>5 rows × 21 columns</p>\n",
              "</div>\n",
              "      <button class=\"colab-df-convert\" onclick=\"convertToInteractive('df-35b80ab2-1a97-484f-b5e6-ab7308a72fcb')\"\n",
              "              title=\"Convert this dataframe to an interactive table.\"\n",
              "              style=\"display:none;\">\n",
              "        \n",
              "  <svg xmlns=\"http://www.w3.org/2000/svg\" height=\"24px\"viewBox=\"0 0 24 24\"\n",
              "       width=\"24px\">\n",
              "    <path d=\"M0 0h24v24H0V0z\" fill=\"none\"/>\n",
              "    <path d=\"M18.56 5.44l.94 2.06.94-2.06 2.06-.94-2.06-.94-.94-2.06-.94 2.06-2.06.94zm-11 1L8.5 8.5l.94-2.06 2.06-.94-2.06-.94L8.5 2.5l-.94 2.06-2.06.94zm10 10l.94 2.06.94-2.06 2.06-.94-2.06-.94-.94-2.06-.94 2.06-2.06.94z\"/><path d=\"M17.41 7.96l-1.37-1.37c-.4-.4-.92-.59-1.43-.59-.52 0-1.04.2-1.43.59L10.3 9.45l-7.72 7.72c-.78.78-.78 2.05 0 2.83L4 21.41c.39.39.9.59 1.41.59.51 0 1.02-.2 1.41-.59l7.78-7.78 2.81-2.81c.8-.78.8-2.07 0-2.86zM5.41 20L4 18.59l7.72-7.72 1.47 1.35L5.41 20z\"/>\n",
              "  </svg>\n",
              "      </button>\n",
              "      \n",
              "  <style>\n",
              "    .colab-df-container {\n",
              "      display:flex;\n",
              "      flex-wrap:wrap;\n",
              "      gap: 12px;\n",
              "    }\n",
              "\n",
              "    .colab-df-convert {\n",
              "      background-color: #E8F0FE;\n",
              "      border: none;\n",
              "      border-radius: 50%;\n",
              "      cursor: pointer;\n",
              "      display: none;\n",
              "      fill: #1967D2;\n",
              "      height: 32px;\n",
              "      padding: 0 0 0 0;\n",
              "      width: 32px;\n",
              "    }\n",
              "\n",
              "    .colab-df-convert:hover {\n",
              "      background-color: #E2EBFA;\n",
              "      box-shadow: 0px 1px 2px rgba(60, 64, 67, 0.3), 0px 1px 3px 1px rgba(60, 64, 67, 0.15);\n",
              "      fill: #174EA6;\n",
              "    }\n",
              "\n",
              "    [theme=dark] .colab-df-convert {\n",
              "      background-color: #3B4455;\n",
              "      fill: #D2E3FC;\n",
              "    }\n",
              "\n",
              "    [theme=dark] .colab-df-convert:hover {\n",
              "      background-color: #434B5C;\n",
              "      box-shadow: 0px 1px 3px 1px rgba(0, 0, 0, 0.15);\n",
              "      filter: drop-shadow(0px 1px 2px rgba(0, 0, 0, 0.3));\n",
              "      fill: #FFFFFF;\n",
              "    }\n",
              "  </style>\n",
              "\n",
              "      <script>\n",
              "        const buttonEl =\n",
              "          document.querySelector('#df-35b80ab2-1a97-484f-b5e6-ab7308a72fcb button.colab-df-convert');\n",
              "        buttonEl.style.display =\n",
              "          google.colab.kernel.accessAllowed ? 'block' : 'none';\n",
              "\n",
              "        async function convertToInteractive(key) {\n",
              "          const element = document.querySelector('#df-35b80ab2-1a97-484f-b5e6-ab7308a72fcb');\n",
              "          const dataTable =\n",
              "            await google.colab.kernel.invokeFunction('convertToInteractive',\n",
              "                                                     [key], {});\n",
              "          if (!dataTable) return;\n",
              "\n",
              "          const docLinkHtml = 'Like what you see? Visit the ' +\n",
              "            '<a target=\"_blank\" href=https://colab.research.google.com/notebooks/data_table.ipynb>data table notebook</a>'\n",
              "            + ' to learn more about interactive tables.';\n",
              "          element.innerHTML = '';\n",
              "          dataTable['output_type'] = 'display_data';\n",
              "          await google.colab.output.renderOutput(dataTable, element);\n",
              "          const docLink = document.createElement('div');\n",
              "          docLink.innerHTML = docLinkHtml;\n",
              "          element.appendChild(docLink);\n",
              "        }\n",
              "      </script>\n",
              "    </div>\n",
              "  </div>\n",
              "  "
            ]
          },
          "metadata": {},
          "execution_count": 39
        }
      ],
      "source": [
        "### Rearange the dataframe based on runtime column values ###\n",
        "sorted_runtime_df = df.sort_values(by=['runtime'], ascending=True)\n",
        "sorted_runtime_df.head()\n"
      ],
      "id": "7afae7b1"
    },
    {
      "cell_type": "code",
      "execution_count": null,
      "metadata": {
        "id": "68404b64",
        "colab": {
          "base_uri": "https://localhost:8080/"
        },
        "outputId": "af4c0691-8b15-4d3b-ffb9-bbc8efb6419f"
      },
      "outputs": [
        {
          "output_type": "stream",
          "name": "stdout",
          "text": [
            "the top 5 successful years for the USA cinema based on the total income devided by number of movies is \n",
            " [1997 2015 2012 2015 2013]\n"
          ]
        }
      ],
      "source": [
        "### Find the top 5 successful years for the USA cinema based on the total income devided by number of movies  ###\n",
        "usa_df=df[df['production_countries'] == 'United States of America']\n",
        "usa_series= usa_df.groupby(['release_year','original_title']).Profit.sum()/df['original_title'].count().round(3)\n",
        "top_years=usa_series.to_frame().reset_index().sort_values(by=['Profit'],ascending =False).release_year.head(5).values\n",
        "print('the top 5 successful years for the USA cinema based on the total income devided by number of movies is \\n',top_years)"
      ],
      "id": "68404b64"
    },
    {
      "cell_type": "code",
      "execution_count": null,
      "metadata": {
        "colab": {
          "base_uri": "https://localhost:8080/"
        },
        "id": "332a581a",
        "outputId": "f2f30c9e-080c-4594-ebe0-aabac5dd665a"
      },
      "outputs": [
        {
          "name": "stdout",
          "output_type": "stream",
          "text": [
            "the most succesfull movie in [USA, UK] is 127 Hours movie\n"
          ]
        }
      ],
      "source": [
        "### Find the most succesfull movie in [USA, UK] ###\n",
        "#the most succesfull movie that have the highest profit\n",
        "df_slice=df[df['production_countries'] == 'United Kingdom,United States of America']\n",
        "print('the most succesfull movie in [USA, UK] is',df_slice.groupby('original_title')['Profit'].max().head(1).index[0],'movie')\n"
      ],
      "id": "332a581a"
    },
    {
      "cell_type": "code",
      "execution_count": null,
      "metadata": {
        "colab": {
          "base_uri": "https://localhost:8080/",
          "height": 332
        },
        "id": "b83b49f9",
        "outputId": "25fa25f2-6b12-4d51-b7e6-f4017b7da34f"
      },
      "outputs": [
        {
          "data": {
            "text/html": [
              "<style type=\"text/css\">\n",
              "#T_de9b2_row0_col0 {\n",
              "  background-color: #ff0000;\n",
              "  color: #f1f1f1;\n",
              "}\n",
              "#T_de9b2_row1_col0 {\n",
              "  background-color: #ff0505;\n",
              "  color: #f1f1f1;\n",
              "}\n",
              "#T_de9b2_row2_col0 {\n",
              "  background-color: #fc3232;\n",
              "  color: #f1f1f1;\n",
              "}\n",
              "#T_de9b2_row3_col0 {\n",
              "  background-color: #fc3d3d;\n",
              "  color: #f1f1f1;\n",
              "}\n",
              "#T_de9b2_row4_col0 {\n",
              "  background-color: #fb5151;\n",
              "  color: #f1f1f1;\n",
              "}\n",
              "#T_de9b2_row5_col0 {\n",
              "  background-color: #f6abab;\n",
              "  color: #000000;\n",
              "}\n",
              "#T_de9b2_row6_col0 {\n",
              "  background-color: #f6b8b7;\n",
              "  color: #000000;\n",
              "}\n",
              "#T_de9b2_row7_col0 {\n",
              "  background-color: #f4d0d0;\n",
              "  color: #000000;\n",
              "}\n",
              "#T_de9b2_row8_col0 {\n",
              "  background-color: #f3f0f0;\n",
              "  color: #000000;\n",
              "}\n",
              "</style>\n",
              "<table id=\"T_de9b2_\" class=\"dataframe\">\n",
              "  <thead>\n",
              "    <tr>\n",
              "      <th class=\"blank level0\" >&nbsp;</th>\n",
              "      <th class=\"col_heading level0 col0\" >Correlation to revenue column</th>\n",
              "    </tr>\n",
              "  </thead>\n",
              "  <tbody>\n",
              "    <tr>\n",
              "      <th id=\"T_de9b2_level0_row0\" class=\"row_heading level0 row0\" >revenue</th>\n",
              "      <td id=\"T_de9b2_row0_col0\" class=\"data row0 col0\" >1.000000</td>\n",
              "    </tr>\n",
              "    <tr>\n",
              "      <th id=\"T_de9b2_level0_row1\" class=\"row_heading level0 row1\" >Profit</th>\n",
              "      <td id=\"T_de9b2_row1_col0\" class=\"data row1 col0\" >0.978881</td>\n",
              "    </tr>\n",
              "    <tr>\n",
              "      <th id=\"T_de9b2_level0_row2\" class=\"row_heading level0 row2\" >vote_count</th>\n",
              "      <td id=\"T_de9b2_row2_col0\" class=\"data row2 col0\" >0.781437</td>\n",
              "    </tr>\n",
              "    <tr>\n",
              "      <th id=\"T_de9b2_level0_row3\" class=\"row_heading level0 row3\" >budget</th>\n",
              "      <td id=\"T_de9b2_row3_col0\" class=\"data row3 col0\" >0.730764</td>\n",
              "    </tr>\n",
              "    <tr>\n",
              "      <th id=\"T_de9b2_level0_row4\" class=\"row_heading level0 row4\" >popularity</th>\n",
              "      <td id=\"T_de9b2_row4_col0\" class=\"data row4 col0\" >0.644631</td>\n",
              "    </tr>\n",
              "    <tr>\n",
              "      <th id=\"T_de9b2_level0_row5\" class=\"row_heading level0 row5\" >runtime</th>\n",
              "      <td id=\"T_de9b2_row5_col0\" class=\"data row5 col0\" >0.251112</td>\n",
              "    </tr>\n",
              "    <tr>\n",
              "      <th id=\"T_de9b2_level0_row6\" class=\"row_heading level0 row6\" >vote_average</th>\n",
              "      <td id=\"T_de9b2_row6_col0\" class=\"data row6 col0\" >0.197437</td>\n",
              "    </tr>\n",
              "    <tr>\n",
              "      <th id=\"T_de9b2_level0_row7\" class=\"row_heading level0 row7\" >release_year</th>\n",
              "      <td id=\"T_de9b2_row7_col0\" class=\"data row7 col0\" >0.090537</td>\n",
              "    </tr>\n",
              "    <tr>\n",
              "      <th id=\"T_de9b2_level0_row8\" class=\"row_heading level0 row8\" >id</th>\n",
              "      <td id=\"T_de9b2_row8_col0\" class=\"data row8 col0\" >-0.049192</td>\n",
              "    </tr>\n",
              "  </tbody>\n",
              "</table>\n"
            ],
            "text/plain": [
              "<pandas.io.formats.style.Styler at 0x7f84d3d31a50>"
            ]
          },
          "execution_count": 323,
          "metadata": {},
          "output_type": "execute_result"
        }
      ],
      "source": [
        "### In your opinion what is the highest variable that affects the revenue value (high coloration) ### PONUS\n",
        "import matplotlib.pyplot as plt\n",
        "import seaborn as sns\n",
        "df1Corr=pd.DataFrame(df.corr().unstack().sort_values(ascending=False)['revenue'],columns=['Correlation to revenue column'])\n",
        "df1Corr.style.background_gradient(cmap=sns.light_palette(\"red\", as_cmap=True))\n",
        "#the high correlated value that affect revenue after itself and profit is vote_count"
      ],
      "id": "b83b49f9"
    },
    {
      "cell_type": "markdown",
      "metadata": {
        "id": "a3ec6afe"
      },
      "source": [
        "#  <span style=\"color:brown\">Problem 16\n",
        "\n",
        "## <span style=\"color:blue\">Problem statment\n",
        "\n",
        "The content, tone, and format of job bulletins can influence the quality of the applicant pool. Overly-specific job requirements may discourage diversity. The Los Angeles Mayor’s Office wants to reimagine the city’s job bulletins by using text analysis to identify needed improvements, in order to achive this use the daatset in the relative diretcotry ./Datasets/la_jobs.csv, and this is the decomentation for the useful columns you should use:\n",
        "\n",
        "- FILE_NAME: The bulletins file name.\n",
        "- JOB_CLASS_TITLE: Job title.\n",
        "- JOB_CLASS_NO: Job number.\n",
        "- JOB_DUTIES: The duties of this job.\n",
        "- EDUCATION_YEARS: Number of education yeras needed to apply for this job.\n",
        "- SCHOOL_TYPE: The type of school you need to study in.\n",
        "- EDUCATION_MAJOR: The eductaion major you study in this school.\n",
        "- EXPERIENCE_LENGTH: The number of experience years needed to apply for this job .\n",
        "- FULL_TIME_PART_TIME: If the job is full time or part time or both.\n",
        "- EXP_JOB_CLASS_TITLE: The title of the job you must have experience in before applying in this job.\n",
        "- COURSE_COUNT: Number of courses needed to apply for this job.\n",
        "- COURSE_LENGTH: The course length in years or months.\n",
        "- COURSE_SUBJECT: The course subject tha is needed to be accepted in this job.\n",
        "- DRIVERS_LICENSE_REQ: Is driver license required or not for this job.\n",
        "- EXAM_TYPE: Type of exams neededin the hiring process.\n",
        "- ENTRY_SALARY: Salary range in this job.\n",
        "- OPEN_DATE: Date at it the job bulliten got open.\n",
        "- REQUIREMENT_SET_TEXT: The requirments set need for this job in points.\n",
        "\n",
        "    \n",
        "\n",
        "#### The goal is to answer the following questions\n",
        " "
      ],
      "id": "a3ec6afe"
    },
    {
      "cell_type": "code",
      "execution_count": null,
      "metadata": {
        "colab": {
          "base_uri": "https://localhost:8080/",
          "height": 681
        },
        "id": "n3OZ7PXc9X6M",
        "outputId": "a5084656-1601-43ab-c1ec-2d6d587615eb"
      },
      "outputs": [
        {
          "output_type": "execute_result",
          "data": {
            "text/plain": [
              "                          FILE_NAME   JOB_CLASS_TITLE JOB_CLASS_NO  \\\n",
              "0      311 DIRECTOR 9206 041814.txt      311 Director         9206   \n",
              "1      311 DIRECTOR 9206 041814.txt      311 Director         9206   \n",
              "2      311 DIRECTOR 9206 041814.txt      311 Director         9206   \n",
              "3        ACCOUNTANT 1513 062218.txt        Accountant         1513   \n",
              "4  ACCOUNTING CLERK 1223 071318.txt  Accounting Clerk         1223   \n",
              "\n",
              "   REQUIREMENT_SET_ID REQUIREMENT_SUBSET_ID  \\\n",
              "0                 1.0                     -   \n",
              "1                 2.0                     -   \n",
              "2                 3.0                     -   \n",
              "3                 1.0                     -   \n",
              "4                 1.0                     -   \n",
              "\n",
              "                                          JOB_DUTIES EDUCATION_YEARS  \\\n",
              "0  A 311 Director is responsible for the successf...               -   \n",
              "1  A 311 Director is responsible for the successf...               -   \n",
              "2  A 311 Director is responsible for the successf...               -   \n",
              "3  An Accountant does professional accounting wor...             4.0   \n",
              "4  An Accounting Clerk performs difficult and res...               -   \n",
              "\n",
              "                  SCHOOL_TYPE EDUCATION_MAJOR EXPERIENCE_LENGTH  ...  \\\n",
              "0                           -               -               1.0  ...   \n",
              "1       college or university               -               4.0  ...   \n",
              "2                           -               -               8.0  ...   \n",
              "3       college or university               -                 -  ...   \n",
              "4  trade school or university               -               2.0  ...   \n",
              "\n",
              "  DRIVERS_LICENSE_REQ DRIV_LIC_TYPE ADDTL_LIC      EXAM_TYPE  \\\n",
              "0                   -             -         -  OPEN_INT_PROM   \n",
              "1                   -             -         -  OPEN_INT_PROM   \n",
              "2                   -             -         -  OPEN_INT_PROM   \n",
              "3                   P             -         -           OPEN   \n",
              "4                   -             -         -  OPEN_INT_PROM   \n",
              "\n",
              "       ENTRY_SALARY_GEN ENTRY_SALARY_DWP OPEN_DATE  \\\n",
              "0  $125,175 to $155,514                -  04-18-14   \n",
              "1  $125,175 to $155,514                -  04-18-14   \n",
              "2  $125,175 to $155,514                -  04-18-14   \n",
              "3    $49,903 to $72,996                -  06-22-18   \n",
              "4    $49,005 to $71,618                -  07-13-18   \n",
              "\n",
              "                                REQUIREMENT_SET_TEXT REQUIREMENT_SUBSET_TEXT  \\\n",
              "0  One year of full-time paid experience as a Sen...                       -   \n",
              "1  A Bachelor's degree from a recognized college ...                       -   \n",
              "2  Eight years of full-time paid experience in a ...                       -   \n",
              "3  Graduation from an accredited four-year colleg...                       -   \n",
              "4  Two years of full-time paid office clerical ex...                       -   \n",
              "\n",
              "  REQUIREMENT_CONJUNCTION  \n",
              "0                      or  \n",
              "1                      or  \n",
              "2                       -  \n",
              "3                       -  \n",
              "4                       -  \n",
              "\n",
              "[5 rows x 28 columns]"
            ],
            "text/html": [
              "\n",
              "  <div id=\"df-74e88bf5-c8a4-4a95-8e0f-39098cef36ca\">\n",
              "    <div class=\"colab-df-container\">\n",
              "      <div>\n",
              "<style scoped>\n",
              "    .dataframe tbody tr th:only-of-type {\n",
              "        vertical-align: middle;\n",
              "    }\n",
              "\n",
              "    .dataframe tbody tr th {\n",
              "        vertical-align: top;\n",
              "    }\n",
              "\n",
              "    .dataframe thead th {\n",
              "        text-align: right;\n",
              "    }\n",
              "</style>\n",
              "<table border=\"1\" class=\"dataframe\">\n",
              "  <thead>\n",
              "    <tr style=\"text-align: right;\">\n",
              "      <th></th>\n",
              "      <th>FILE_NAME</th>\n",
              "      <th>JOB_CLASS_TITLE</th>\n",
              "      <th>JOB_CLASS_NO</th>\n",
              "      <th>REQUIREMENT_SET_ID</th>\n",
              "      <th>REQUIREMENT_SUBSET_ID</th>\n",
              "      <th>JOB_DUTIES</th>\n",
              "      <th>EDUCATION_YEARS</th>\n",
              "      <th>SCHOOL_TYPE</th>\n",
              "      <th>EDUCATION_MAJOR</th>\n",
              "      <th>EXPERIENCE_LENGTH</th>\n",
              "      <th>...</th>\n",
              "      <th>DRIVERS_LICENSE_REQ</th>\n",
              "      <th>DRIV_LIC_TYPE</th>\n",
              "      <th>ADDTL_LIC</th>\n",
              "      <th>EXAM_TYPE</th>\n",
              "      <th>ENTRY_SALARY_GEN</th>\n",
              "      <th>ENTRY_SALARY_DWP</th>\n",
              "      <th>OPEN_DATE</th>\n",
              "      <th>REQUIREMENT_SET_TEXT</th>\n",
              "      <th>REQUIREMENT_SUBSET_TEXT</th>\n",
              "      <th>REQUIREMENT_CONJUNCTION</th>\n",
              "    </tr>\n",
              "  </thead>\n",
              "  <tbody>\n",
              "    <tr>\n",
              "      <th>0</th>\n",
              "      <td>311 DIRECTOR 9206 041814.txt</td>\n",
              "      <td>311 Director</td>\n",
              "      <td>9206</td>\n",
              "      <td>1.0</td>\n",
              "      <td>-</td>\n",
              "      <td>A 311 Director is responsible for the successf...</td>\n",
              "      <td>-</td>\n",
              "      <td>-</td>\n",
              "      <td>-</td>\n",
              "      <td>1.0</td>\n",
              "      <td>...</td>\n",
              "      <td>-</td>\n",
              "      <td>-</td>\n",
              "      <td>-</td>\n",
              "      <td>OPEN_INT_PROM</td>\n",
              "      <td>$125,175 to $155,514</td>\n",
              "      <td>-</td>\n",
              "      <td>04-18-14</td>\n",
              "      <td>One year of full-time paid experience as a Sen...</td>\n",
              "      <td>-</td>\n",
              "      <td>or</td>\n",
              "    </tr>\n",
              "    <tr>\n",
              "      <th>1</th>\n",
              "      <td>311 DIRECTOR 9206 041814.txt</td>\n",
              "      <td>311 Director</td>\n",
              "      <td>9206</td>\n",
              "      <td>2.0</td>\n",
              "      <td>-</td>\n",
              "      <td>A 311 Director is responsible for the successf...</td>\n",
              "      <td>-</td>\n",
              "      <td>college or university</td>\n",
              "      <td>-</td>\n",
              "      <td>4.0</td>\n",
              "      <td>...</td>\n",
              "      <td>-</td>\n",
              "      <td>-</td>\n",
              "      <td>-</td>\n",
              "      <td>OPEN_INT_PROM</td>\n",
              "      <td>$125,175 to $155,514</td>\n",
              "      <td>-</td>\n",
              "      <td>04-18-14</td>\n",
              "      <td>A Bachelor's degree from a recognized college ...</td>\n",
              "      <td>-</td>\n",
              "      <td>or</td>\n",
              "    </tr>\n",
              "    <tr>\n",
              "      <th>2</th>\n",
              "      <td>311 DIRECTOR 9206 041814.txt</td>\n",
              "      <td>311 Director</td>\n",
              "      <td>9206</td>\n",
              "      <td>3.0</td>\n",
              "      <td>-</td>\n",
              "      <td>A 311 Director is responsible for the successf...</td>\n",
              "      <td>-</td>\n",
              "      <td>-</td>\n",
              "      <td>-</td>\n",
              "      <td>8.0</td>\n",
              "      <td>...</td>\n",
              "      <td>-</td>\n",
              "      <td>-</td>\n",
              "      <td>-</td>\n",
              "      <td>OPEN_INT_PROM</td>\n",
              "      <td>$125,175 to $155,514</td>\n",
              "      <td>-</td>\n",
              "      <td>04-18-14</td>\n",
              "      <td>Eight years of full-time paid experience in a ...</td>\n",
              "      <td>-</td>\n",
              "      <td>-</td>\n",
              "    </tr>\n",
              "    <tr>\n",
              "      <th>3</th>\n",
              "      <td>ACCOUNTANT 1513 062218.txt</td>\n",
              "      <td>Accountant</td>\n",
              "      <td>1513</td>\n",
              "      <td>1.0</td>\n",
              "      <td>-</td>\n",
              "      <td>An Accountant does professional accounting wor...</td>\n",
              "      <td>4.0</td>\n",
              "      <td>college or university</td>\n",
              "      <td>-</td>\n",
              "      <td>-</td>\n",
              "      <td>...</td>\n",
              "      <td>P</td>\n",
              "      <td>-</td>\n",
              "      <td>-</td>\n",
              "      <td>OPEN</td>\n",
              "      <td>$49,903 to $72,996</td>\n",
              "      <td>-</td>\n",
              "      <td>06-22-18</td>\n",
              "      <td>Graduation from an accredited four-year colleg...</td>\n",
              "      <td>-</td>\n",
              "      <td>-</td>\n",
              "    </tr>\n",
              "    <tr>\n",
              "      <th>4</th>\n",
              "      <td>ACCOUNTING CLERK 1223 071318.txt</td>\n",
              "      <td>Accounting Clerk</td>\n",
              "      <td>1223</td>\n",
              "      <td>1.0</td>\n",
              "      <td>-</td>\n",
              "      <td>An Accounting Clerk performs difficult and res...</td>\n",
              "      <td>-</td>\n",
              "      <td>trade school or university</td>\n",
              "      <td>-</td>\n",
              "      <td>2.0</td>\n",
              "      <td>...</td>\n",
              "      <td>-</td>\n",
              "      <td>-</td>\n",
              "      <td>-</td>\n",
              "      <td>OPEN_INT_PROM</td>\n",
              "      <td>$49,005 to $71,618</td>\n",
              "      <td>-</td>\n",
              "      <td>07-13-18</td>\n",
              "      <td>Two years of full-time paid office clerical ex...</td>\n",
              "      <td>-</td>\n",
              "      <td>-</td>\n",
              "    </tr>\n",
              "  </tbody>\n",
              "</table>\n",
              "<p>5 rows × 28 columns</p>\n",
              "</div>\n",
              "      <button class=\"colab-df-convert\" onclick=\"convertToInteractive('df-74e88bf5-c8a4-4a95-8e0f-39098cef36ca')\"\n",
              "              title=\"Convert this dataframe to an interactive table.\"\n",
              "              style=\"display:none;\">\n",
              "        \n",
              "  <svg xmlns=\"http://www.w3.org/2000/svg\" height=\"24px\"viewBox=\"0 0 24 24\"\n",
              "       width=\"24px\">\n",
              "    <path d=\"M0 0h24v24H0V0z\" fill=\"none\"/>\n",
              "    <path d=\"M18.56 5.44l.94 2.06.94-2.06 2.06-.94-2.06-.94-.94-2.06-.94 2.06-2.06.94zm-11 1L8.5 8.5l.94-2.06 2.06-.94-2.06-.94L8.5 2.5l-.94 2.06-2.06.94zm10 10l.94 2.06.94-2.06 2.06-.94-2.06-.94-.94-2.06-.94 2.06-2.06.94z\"/><path d=\"M17.41 7.96l-1.37-1.37c-.4-.4-.92-.59-1.43-.59-.52 0-1.04.2-1.43.59L10.3 9.45l-7.72 7.72c-.78.78-.78 2.05 0 2.83L4 21.41c.39.39.9.59 1.41.59.51 0 1.02-.2 1.41-.59l7.78-7.78 2.81-2.81c.8-.78.8-2.07 0-2.86zM5.41 20L4 18.59l7.72-7.72 1.47 1.35L5.41 20z\"/>\n",
              "  </svg>\n",
              "      </button>\n",
              "      \n",
              "  <style>\n",
              "    .colab-df-container {\n",
              "      display:flex;\n",
              "      flex-wrap:wrap;\n",
              "      gap: 12px;\n",
              "    }\n",
              "\n",
              "    .colab-df-convert {\n",
              "      background-color: #E8F0FE;\n",
              "      border: none;\n",
              "      border-radius: 50%;\n",
              "      cursor: pointer;\n",
              "      display: none;\n",
              "      fill: #1967D2;\n",
              "      height: 32px;\n",
              "      padding: 0 0 0 0;\n",
              "      width: 32px;\n",
              "    }\n",
              "\n",
              "    .colab-df-convert:hover {\n",
              "      background-color: #E2EBFA;\n",
              "      box-shadow: 0px 1px 2px rgba(60, 64, 67, 0.3), 0px 1px 3px 1px rgba(60, 64, 67, 0.15);\n",
              "      fill: #174EA6;\n",
              "    }\n",
              "\n",
              "    [theme=dark] .colab-df-convert {\n",
              "      background-color: #3B4455;\n",
              "      fill: #D2E3FC;\n",
              "    }\n",
              "\n",
              "    [theme=dark] .colab-df-convert:hover {\n",
              "      background-color: #434B5C;\n",
              "      box-shadow: 0px 1px 3px 1px rgba(0, 0, 0, 0.15);\n",
              "      filter: drop-shadow(0px 1px 2px rgba(0, 0, 0, 0.3));\n",
              "      fill: #FFFFFF;\n",
              "    }\n",
              "  </style>\n",
              "\n",
              "      <script>\n",
              "        const buttonEl =\n",
              "          document.querySelector('#df-74e88bf5-c8a4-4a95-8e0f-39098cef36ca button.colab-df-convert');\n",
              "        buttonEl.style.display =\n",
              "          google.colab.kernel.accessAllowed ? 'block' : 'none';\n",
              "\n",
              "        async function convertToInteractive(key) {\n",
              "          const element = document.querySelector('#df-74e88bf5-c8a4-4a95-8e0f-39098cef36ca');\n",
              "          const dataTable =\n",
              "            await google.colab.kernel.invokeFunction('convertToInteractive',\n",
              "                                                     [key], {});\n",
              "          if (!dataTable) return;\n",
              "\n",
              "          const docLinkHtml = 'Like what you see? Visit the ' +\n",
              "            '<a target=\"_blank\" href=https://colab.research.google.com/notebooks/data_table.ipynb>data table notebook</a>'\n",
              "            + ' to learn more about interactive tables.';\n",
              "          element.innerHTML = '';\n",
              "          dataTable['output_type'] = 'display_data';\n",
              "          await google.colab.output.renderOutput(dataTable, element);\n",
              "          const docLink = document.createElement('div');\n",
              "          docLink.innerHTML = docLinkHtml;\n",
              "          element.appendChild(docLink);\n",
              "        }\n",
              "      </script>\n",
              "    </div>\n",
              "  </div>\n",
              "  "
            ]
          },
          "metadata": {},
          "execution_count": 303
        }
      ],
      "source": [
        "import pandas as pd \n",
        "import numpy as np\n",
        "jobs_df = pd.read_csv(\"/content/drive/MyDrive/Datasets/la_jobs.csv\", index_col=0)\n",
        "jobs_df.head()\n"
      ],
      "id": "n3OZ7PXc9X6M"
    },
    {
      "cell_type": "code",
      "execution_count": null,
      "metadata": {
        "id": "-IFAH1DXGVFM"
      },
      "outputs": [],
      "source": [
        "jobs_df.replace('-', np.nan,inplace=True)\n",
        "jobs_df['EXPERIENCE_LENGTH'] = jobs_df['EXPERIENCE_LENGTH'].astype(float)\n"
      ],
      "id": "-IFAH1DXGVFM"
    },
    {
      "cell_type": "code",
      "execution_count": null,
      "metadata": {
        "colab": {
          "base_uri": "https://localhost:8080/",
          "height": 266
        },
        "id": "uK6boJeJDaM4",
        "outputId": "71f95b12-28fe-4b65-80ee-ff3270f63f0c"
      },
      "outputs": [
        {
          "output_type": "display_data",
          "data": {
            "text/plain": [
              "<Figure size 432x288 with 1 Axes>"
            ],
            "image/png": "[encoded data removed]"
          },
          "metadata": {
            "needs_background": "light"
          }
        }
      ],
      "source": [
        "jobs_df.boxplot(column='EXPERIENCE_LENGTH', return_type='axes');\n"
      ],
      "id": "uK6boJeJDaM4"
    },
    {
      "cell_type": "code",
      "execution_count": null,
      "metadata": {
        "colab": {
          "base_uri": "https://localhost:8080/"
        },
        "id": "QrjHmzyzKWkQ",
        "outputId": "4ad51d1c-3a21-40dd-c407-b8d542d41e2c"
      },
      "outputs": [
        {
          "output_type": "execute_result",
          "data": {
            "text/plain": [
              "0"
            ]
          },
          "metadata": {},
          "execution_count": 306
        }
      ],
      "source": [
        "#Impute / Replace Missing Values with median because The median is usually preferred with outliers than mean\n",
        "jobs_df['EXPERIENCE_LENGTH'].fillna((jobs_df['EXPERIENCE_LENGTH'].median()), inplace=True)\n",
        "jobs_df['EXPERIENCE_LENGTH'].isna().sum()"
      ],
      "id": "QrjHmzyzKWkQ"
    },
    {
      "cell_type": "code",
      "execution_count": null,
      "metadata": {
        "id": "bd6hI2uXfMKA"
      },
      "outputs": [],
      "source": [
        "# Replace missing values in SCHOOL_TYPE with the most frequent value\n",
        "jobs_df.SCHOOL_TYPE.fillna(jobs_df['SCHOOL_TYPE'].mode().iloc[0],inplace=True)"
      ],
      "id": "bd6hI2uXfMKA"
    },
    {
      "cell_type": "code",
      "execution_count": null,
      "metadata": {
        "id": "0LSDBo2WklQi"
      },
      "outputs": [],
      "source": [
        "#change type of OPEN_DATE column\n",
        "jobs_df['OPEN_DATE'] =pd.to_datetime(jobs_df['OPEN_DATE'])"
      ],
      "id": "0LSDBo2WklQi"
    },
    {
      "cell_type": "code",
      "source": [
        "jobs_df.dropna(subset=['OPEN_DATE'],inplace=True)\n"
      ],
      "metadata": {
        "id": "yQw5fq5R9dbg"
      },
      "id": "yQw5fq5R9dbg",
      "execution_count": null,
      "outputs": []
    },
    {
      "cell_type": "markdown",
      "metadata": {
        "id": "396bd69e"
      },
      "source": [
        "### <span style=\"color:brown\">Q1:\n",
        "\n",
        "A non-experienced job seeker wants to know what is the best job for him?"
      ],
      "id": "396bd69e"
    },
    {
      "cell_type": "code",
      "execution_count": null,
      "metadata": {
        "colab": {
          "base_uri": "https://localhost:8080/"
        },
        "id": "ec5e2906",
        "outputId": "df98cd12-1213-4952-d600-9b742acde06c"
      },
      "outputs": [
        {
          "output_type": "stream",
          "name": "stdout",
          "text": [
            "the best job for non-experienced job seeker is  Street Services Worker\n"
          ]
        }
      ],
      "source": [
        "print('the best job for non-experienced job seeker is ',jobs_df.groupby('EXPERIENCE_LENGTH')['JOB_CLASS_TITLE'].min().head(1).values[0])"
      ],
      "id": "ec5e2906"
    },
    {
      "cell_type": "markdown",
      "metadata": {
        "id": "86abeb40"
      },
      "source": [
        "### <span style=\"color:brown\">Q2:\n",
        "\n",
        "A concerned parents contacts you to tell them if there is a spicific school type that would guaranteed for their child a good future if you can tell, and which is it ?"
      ],
      "id": "86abeb40"
    },
    {
      "cell_type": "code",
      "execution_count": null,
      "metadata": {
        "colab": {
          "base_uri": "https://localhost:8080/"
        },
        "id": "2649be23",
        "outputId": "b371c2ae-ac6d-449b-fb71-c0f62e5b433f"
      },
      "outputs": [
        {
          "output_type": "stream",
          "name": "stdout",
          "text": [
            "The most  needed type of school  for jobs is  college or university\n"
          ]
        }
      ],
      "source": [
        "print('The most  needed type of school  for jobs is ',jobs_df['SCHOOL_TYPE'].value_counts().head(1).index[0])"
      ],
      "id": "2649be23"
    },
    {
      "cell_type": "markdown",
      "metadata": {
        "id": "9b2d5bb5"
      },
      "source": [
        "### <span style=\"color:brown\">Q3:\n",
        "\n",
        "What the best time in the year to be ready for a job applying in any experience level?"
      ],
      "id": "9b2d5bb5"
    },
    {
      "cell_type": "code",
      "execution_count": null,
      "metadata": {
        "id": "1d328d4d",
        "colab": {
          "base_uri": "https://localhost:8080/"
        },
        "outputId": "4534edd4-b9e9-4fd5-ca11-f9fbe1ed1431"
      },
      "outputs": [
        {
          "output_type": "stream",
          "name": "stdout",
          "text": [
            " the best time in the year to be ready for a job applying is in  Autumn\n"
          ]
        }
      ],
      "source": [
        "jobs_df['OPEN_DATE_Month']=jobs_df['OPEN_DATE'].dt.month.astype(int)\n",
        "seasons = {12:'Winter', 1:'Winter', 2:'Winter',3:'Spring', 4:'Spring', 5:'Spring',6:'Summer', 7:'Summer', 8:'Summer',9:'Autumn', 10:'Autumn', 11:'Autumn'}\n",
        "jobs_df['Seasons'] = jobs_df['OPEN_DATE_Month'].apply(lambda x: seasons[x])\n",
        "best_season = jobs_df['Seasons'].value_counts().head(1).index[0]\n",
        "print(' the best time in the year to be ready for a job applying is in ', best_season)"
      ],
      "id": "1d328d4d"
    },
    {
      "cell_type": "markdown",
      "metadata": {
        "id": "ca3d3f6d"
      },
      "source": [
        "### <span style=\"color:brown\">Q4:\n",
        "\n",
        "Is experience more important than educational level?"
      ],
      "id": "ca3d3f6d"
    },
    {
      "cell_type": "code",
      "source": [
        "jobs_df['Avg_salary']=jobs_df['ENTRY_SALARY_GEN'].str.split('to').str[1].str.replace(\"$\",\"\").str.replace(',', '')\n",
        "jobs_df.dropna(subset=['Avg_salary'],inplace=True)\n",
        "jobs_df['Avg_salary']=jobs_df['Avg_salary'].astype(float)\n",
        "jobs_df['EXPERIENCE_LENGTH']=jobs_df['EXPERIENCE_LENGTH'].astype(float)\n",
        "jobs_df['EDUCATION_YEARS']=jobs_df['EDUCATION_YEARS'].astype(float)\n",
        "jobs_df.dropna(subset=['EDUCATION_YEARS'],inplace=True)\n",
        "jobs_df.groupby('EXPERIENCE_LENGTH')['Avg_salary'].max()\n",
        "#6.0  exberincer years get   143633.0$ "
      ],
      "metadata": {
        "colab": {
          "base_uri": "https://localhost:8080/"
        },
        "id": "5YKXFqpVcgLy",
        "outputId": "4d11b6da-9313-48dd-9383-1711b696dad9"
      },
      "id": "5YKXFqpVcgLy",
      "execution_count": null,
      "outputs": [
        {
          "output_type": "stream",
          "name": "stderr",
          "text": [
            "/usr/local/lib/python3.7/dist-packages/ipykernel_launcher.py:1: FutureWarning: The default value of regex will change from True to False in a future version. In addition, single character regular expressions will *not* be treated as literal strings when regex=True.\n",
            "  \"\"\"Entry point for launching an IPython kernel.\n"
          ]
        },
        {
          "output_type": "execute_result",
          "data": {
            "text/plain": [
              "EXPERIENCE_LENGTH\n",
              "0.5     67317.0\n",
              "1.0    104734.0\n",
              "2.0    215899.0\n",
              "3.0    179171.0\n",
              "4.0    160483.0\n",
              "5.0    154512.0\n",
              "6.0    143633.0\n",
              "Name: Avg_salary, dtype: float64"
            ]
          },
          "metadata": {},
          "execution_count": 313
        }
      ]
    },
    {
      "cell_type": "code",
      "source": [
        "jobs_df.groupby([\"EDUCATION_YEARS\"])[\"Avg_salary\"].max()    \n",
        "#In terms of results, education years is more important because when it increases, salary increases as well\n",
        "#4.0 education years (the highest value in education) get 215899.0$\n",
        "#215899.0-143633.0=72266.0"
      ],
      "metadata": {
        "colab": {
          "base_uri": "https://localhost:8080/"
        },
        "id": "LHcB3cVEZyvv",
        "outputId": "900f1cdb-8c14-4f6b-d19f-963bfd420988"
      },
      "id": "LHcB3cVEZyvv",
      "execution_count": null,
      "outputs": [
        {
          "output_type": "execute_result",
          "data": {
            "text/plain": [
              "EDUCATION_YEARS\n",
              "1.0    104734.0\n",
              "2.0     88260.0\n",
              "4.0    215899.0\n",
              "Name: Avg_salary, dtype: float64"
            ]
          },
          "metadata": {},
          "execution_count": 314
        }
      ]
    },
    {
      "cell_type": "markdown",
      "metadata": {
        "id": "677aa4be"
      },
      "source": [
        "### <span style=\"color:brown\">Q5:\n",
        "\n",
        "Which fresh grade job that will guarantee many job offers in the future for him?"
      ],
      "id": "677aa4be"
    },
    {
      "cell_type": "code",
      "execution_count": null,
      "metadata": {
        "id": "615eb576",
        "colab": {
          "base_uri": "https://localhost:8080/",
          "height": 35
        },
        "outputId": "bc2f8dd0-3609-46bb-f8f9-2bc807a293a1"
      },
      "outputs": [
        {
          "output_type": "execute_result",
          "data": {
            "text/plain": [
              "'Management Assistant'"
            ],
            "application/vnd.google.colaboratory.intrinsic+json": {
              "type": "string"
            }
          },
          "metadata": {},
          "execution_count": 323
        }
      ],
      "source": [
        "### Write your answer here ###\n",
        "jobs_df['EXP_JOB_CLASS_TITLE'].value_counts().head(1).index[0]"
      ],
      "id": "615eb576"
    },
    {
      "cell_type": "markdown",
      "metadata": {
        "id": "8db3bb10"
      },
      "source": [
        "### <span style=\"color:brown\">Q6:\n",
        "\n",
        "\"The City of Los Angeles does not discriminate on the basis of race, religion, national origin, sex, age, marital status, sexual orientation, gender identity, gender expression, disability, creed, color, ancestry, medical condition (cancer), or Acquired Immune Deficiency Syndrome.\n",
        "\n",
        "AN EQUAL EMPLOYMENT OPPORTUNITY EMPLOYER \n",
        "\"\n",
        "\n",
        "The above statment is qouted from one of the job descriptions.\n",
        "\n",
        "Based on the jobs requirments column above do you think that LA governate may bais a little for men over women or the applicant marital status for example may effect his chance to gain the job?"
      ],
      "id": "8db3bb10"
    },
    {
      "cell_type": "code",
      "source": [
        "baised_list=['men', 'women', 'single', 'married','widowed','separated ','divorced ']\n",
        "jobs_df[jobs_df['REQUIREMENT_SET_TEXT'].str.lower().isin([x.lower() for x in baised_list])]\n",
        "#there is no bias in jobs requirments column"
      ],
      "metadata": {
        "colab": {
          "base_uri": "https://localhost:8080/",
          "height": 143
        },
        "id": "Ni8diUhzLJCr",
        "outputId": "f5d443b4-ac3f-476b-851a-c7d4f16f6f1f"
      },
      "id": "Ni8diUhzLJCr",
      "execution_count": null,
      "outputs": [
        {
          "output_type": "execute_result",
          "data": {
            "text/plain": [
              "Empty DataFrame\n",
              "Columns: [FILE_NAME, JOB_CLASS_TITLE, JOB_CLASS_NO, REQUIREMENT_SET_ID, REQUIREMENT_SUBSET_ID, JOB_DUTIES, EDUCATION_YEARS, SCHOOL_TYPE, EDUCATION_MAJOR, EXPERIENCE_LENGTH, FULL_TIME_PART_TIME, EXP_JOB_CLASS_TITLE, EXP_JOB_CLASS_ALT_RESP, EXP_JOB_CLASS_FUNCTION, COURSE_COUNT, COURSE_LENGTH, COURSE_SUBJECT, MISC_COURSE_DETAILS, DRIVERS_LICENSE_REQ, DRIV_LIC_TYPE, ADDTL_LIC, EXAM_TYPE, ENTRY_SALARY_GEN, ENTRY_SALARY_DWP, OPEN_DATE, REQUIREMENT_SET_TEXT, REQUIREMENT_SUBSET_TEXT, REQUIREMENT_CONJUNCTION, OPEN_DATE_Month, Seasons, Avg_salary]\n",
              "Index: []\n",
              "\n",
              "[0 rows x 31 columns]"
            ],
            "text/html": [
              "\n",
              "  <div id=\"df-c9380d9b-a235-48d1-b34f-714665522008\">\n",
              "    <div class=\"colab-df-container\">\n",
              "      <div>\n",
              "<style scoped>\n",
              "    .dataframe tbody tr th:only-of-type {\n",
              "        vertical-align: middle;\n",
              "    }\n",
              "\n",
              "    .dataframe tbody tr th {\n",
              "        vertical-align: top;\n",
              "    }\n",
              "\n",
              "    .dataframe thead th {\n",
              "        text-align: right;\n",
              "    }\n",
              "</style>\n",
              "<table border=\"1\" class=\"dataframe\">\n",
              "  <thead>\n",
              "    <tr style=\"text-align: right;\">\n",
              "      <th></th>\n",
              "      <th>FILE_NAME</th>\n",
              "      <th>JOB_CLASS_TITLE</th>\n",
              "      <th>JOB_CLASS_NO</th>\n",
              "      <th>REQUIREMENT_SET_ID</th>\n",
              "      <th>REQUIREMENT_SUBSET_ID</th>\n",
              "      <th>JOB_DUTIES</th>\n",
              "      <th>EDUCATION_YEARS</th>\n",
              "      <th>SCHOOL_TYPE</th>\n",
              "      <th>EDUCATION_MAJOR</th>\n",
              "      <th>EXPERIENCE_LENGTH</th>\n",
              "      <th>...</th>\n",
              "      <th>EXAM_TYPE</th>\n",
              "      <th>ENTRY_SALARY_GEN</th>\n",
              "      <th>ENTRY_SALARY_DWP</th>\n",
              "      <th>OPEN_DATE</th>\n",
              "      <th>REQUIREMENT_SET_TEXT</th>\n",
              "      <th>REQUIREMENT_SUBSET_TEXT</th>\n",
              "      <th>REQUIREMENT_CONJUNCTION</th>\n",
              "      <th>OPEN_DATE_Month</th>\n",
              "      <th>Seasons</th>\n",
              "      <th>Avg_salary</th>\n",
              "    </tr>\n",
              "  </thead>\n",
              "  <tbody>\n",
              "  </tbody>\n",
              "</table>\n",
              "<p>0 rows × 31 columns</p>\n",
              "</div>\n",
              "      <button class=\"colab-df-convert\" onclick=\"convertToInteractive('df-c9380d9b-a235-48d1-b34f-714665522008')\"\n",
              "              title=\"Convert this dataframe to an interactive table.\"\n",
              "              style=\"display:none;\">\n",
              "        \n",
              "  <svg xmlns=\"http://www.w3.org/2000/svg\" height=\"24px\"viewBox=\"0 0 24 24\"\n",
              "       width=\"24px\">\n",
              "    <path d=\"M0 0h24v24H0V0z\" fill=\"none\"/>\n",
              "    <path d=\"M18.56 5.44l.94 2.06.94-2.06 2.06-.94-2.06-.94-.94-2.06-.94 2.06-2.06.94zm-11 1L8.5 8.5l.94-2.06 2.06-.94-2.06-.94L8.5 2.5l-.94 2.06-2.06.94zm10 10l.94 2.06.94-2.06 2.06-.94-2.06-.94-.94-2.06-.94 2.06-2.06.94z\"/><path d=\"M17.41 7.96l-1.37-1.37c-.4-.4-.92-.59-1.43-.59-.52 0-1.04.2-1.43.59L10.3 9.45l-7.72 7.72c-.78.78-.78 2.05 0 2.83L4 21.41c.39.39.9.59 1.41.59.51 0 1.02-.2 1.41-.59l7.78-7.78 2.81-2.81c.8-.78.8-2.07 0-2.86zM5.41 20L4 18.59l7.72-7.72 1.47 1.35L5.41 20z\"/>\n",
              "  </svg>\n",
              "      </button>\n",
              "      \n",
              "  <style>\n",
              "    .colab-df-container {\n",
              "      display:flex;\n",
              "      flex-wrap:wrap;\n",
              "      gap: 12px;\n",
              "    }\n",
              "\n",
              "    .colab-df-convert {\n",
              "      background-color: #E8F0FE;\n",
              "      border: none;\n",
              "      border-radius: 50%;\n",
              "      cursor: pointer;\n",
              "      display: none;\n",
              "      fill: #1967D2;\n",
              "      height: 32px;\n",
              "      padding: 0 0 0 0;\n",
              "      width: 32px;\n",
              "    }\n",
              "\n",
              "    .colab-df-convert:hover {\n",
              "      background-color: #E2EBFA;\n",
              "      box-shadow: 0px 1px 2px rgba(60, 64, 67, 0.3), 0px 1px 3px 1px rgba(60, 64, 67, 0.15);\n",
              "      fill: #174EA6;\n",
              "    }\n",
              "\n",
              "    [theme=dark] .colab-df-convert {\n",
              "      background-color: #3B4455;\n",
              "      fill: #D2E3FC;\n",
              "    }\n",
              "\n",
              "    [theme=dark] .colab-df-convert:hover {\n",
              "      background-color: #434B5C;\n",
              "      box-shadow: 0px 1px 3px 1px rgba(0, 0, 0, 0.15);\n",
              "      filter: drop-shadow(0px 1px 2px rgba(0, 0, 0, 0.3));\n",
              "      fill: #FFFFFF;\n",
              "    }\n",
              "  </style>\n",
              "\n",
              "      <script>\n",
              "        const buttonEl =\n",
              "          document.querySelector('#df-c9380d9b-a235-48d1-b34f-714665522008 button.colab-df-convert');\n",
              "        buttonEl.style.display =\n",
              "          google.colab.kernel.accessAllowed ? 'block' : 'none';\n",
              "\n",
              "        async function convertToInteractive(key) {\n",
              "          const element = document.querySelector('#df-c9380d9b-a235-48d1-b34f-714665522008');\n",
              "          const dataTable =\n",
              "            await google.colab.kernel.invokeFunction('convertToInteractive',\n",
              "                                                     [key], {});\n",
              "          if (!dataTable) return;\n",
              "\n",
              "          const docLinkHtml = 'Like what you see? Visit the ' +\n",
              "            '<a target=\"_blank\" href=https://colab.research.google.com/notebooks/data_table.ipynb>data table notebook</a>'\n",
              "            + ' to learn more about interactive tables.';\n",
              "          element.innerHTML = '';\n",
              "          dataTable['output_type'] = 'display_data';\n",
              "          await google.colab.output.renderOutput(dataTable, element);\n",
              "          const docLink = document.createElement('div');\n",
              "          docLink.innerHTML = docLinkHtml;\n",
              "          element.appendChild(docLink);\n",
              "        }\n",
              "      </script>\n",
              "    </div>\n",
              "  </div>\n",
              "  "
            ]
          },
          "metadata": {},
          "execution_count": 366
        }
      ]
    },
    {
      "cell_type": "markdown",
      "metadata": {
        "id": "549a5513"
      },
      "source": [
        "#  <span style=\"color:brown\">Pythone Implementation"
      ],
      "id": "549a5513"
    },
    {
      "cell_type": "markdown",
      "metadata": {
        "id": "5d4ec7fa"
      },
      "source": [
        "## Problem 17\n",
        "\n",
        "### <span style=\"color:Blue\">Song Recommender</span>\n",
        "\n",
        "#### <a id='seq_1'></a> Build a simple program that recommend songs to the user , based on his feelings and current mood, the songs recommendation rely on five categories:\n",
        "- Cheering\n",
        "- Sad\n",
        "- In Love\n",
        "- Motivated\n",
        "- Calm\n",
        "\n",
        "#### Each song has a total score of 5 for each category, so you should ask the user for his percentage for each category, with a simple restriction that the category score must not exceed 5.\n",
        "#### Then you should find the closest song to his feelings based on a simple difference calculation equation shown below:\n",
        "$ \\sqrt{(I_1 - R_1)^2 + (I_2 - R_2)^2 + (I_3 - R_3)^2 + (I_4 - R_4)^2} $\n",
        "##### As $ I_i $ is the input feeling value number i, and $ R_i $ is the refrence feeling value number i, as  $ i <= 4 $\n",
        "##### you will find below in the coding cell a nested dictionary with all the songs and its scores for each category, and also atatched in each dictionary a link to the song in youtube.\n",
        "\n",
        "#### Output Discription:\n",
        "|Case|Output|\n",
        "|--|--|\n",
        "|Standard|Song Name<br>Link to the video in youtube|\n",
        "\n",
        "#### Notes\n",
        "- The input categories order is as [above](#seq_1)\n",
        "- Make sure the score for each category is 5 at max.\n",
        "- All inputs must be casted to float.\n",
        "- The songs are listed in a nested dictionary with values of each category down below."
      ],
      "id": "5d4ec7fa"
    },
    {
      "cell_type": "code",
      "source": [
        "import pickle\n",
        "file_to_read = open(\"/content/dict_of_songs.pkl\", \"rb\")\n",
        "loaded_dictionary = pickle.load(file_to_read)\n",
        "df1 = pd.DataFrame.from_dict(loaded_dictionary, orient = 'index')\n",
        "df1=df1.reset_index()\n",
        "df1.rename(columns={'index': 'Song_name', 0: 'Category',1:'Song_link'}, inplace=True)\n",
        "data_dict = df1['Category'].to_dict()\n",
        "df2=pd.DataFrame.from_dict(data_dict, orient = 'index')\n",
        "df2=df2.astype(float)\n",
        "new_df1=df1.drop('Category', axis=1)\n",
        "merged_df = pd.concat([new_df1,df2], axis=1, join='inner')\n"
      ],
      "metadata": {
        "id": "vxy5mkVmnC0G"
      },
      "id": "vxy5mkVmnC0G",
      "execution_count": null,
      "outputs": []
    },
    {
      "cell_type": "code",
      "source": [
        "merged_df.head()"
      ],
      "metadata": {
        "id": "suCDmR1-rXSn",
        "colab": {
          "base_uri": "https://localhost:8080/",
          "height": 206
        },
        "outputId": "a3fec590-1df3-4403-cfca-370ee01fd9f6"
      },
      "id": "suCDmR1-rXSn",
      "execution_count": null,
      "outputs": [
        {
          "output_type": "execute_result",
          "data": {
            "text/plain": [
              "                            Song_name  \\\n",
              "0                Ed Sheeran - Perfect   \n",
              "1              George Ezra - Budapest   \n",
              "2           Mark Ronson - Uptown Funk   \n",
              "3                    Maroon 5 - Sugar   \n",
              "4  The Lumineers - Sleep On The Floor   \n",
              "\n",
              "                                     Song_link  Cheering  Sad  In love  \\\n",
              "0  https://www.youtube.com/watch?v=2Vv-BfVoq4g       3.0  0.0      5.0   \n",
              "1  https://www.youtube.com/watch?v=VHrLPs3_1Fs       1.0  0.0      5.0   \n",
              "2  https://www.youtube.com/watch?v=OPf0YbXqDm0       5.0  0.0      2.0   \n",
              "3  https://www.youtube.com/watch?v=09R8_2nJtjg       5.0  0.0      4.0   \n",
              "4  https://www.youtube.com/watch?v=v4pi1LxuDHc       1.0  4.0      4.0   \n",
              "\n",
              "   Motivated  Calm  \n",
              "0        2.0   3.0  \n",
              "1        2.0   4.0  \n",
              "2        3.0   1.0  \n",
              "3        4.0   1.0  \n",
              "4        1.0   4.0  "
            ],
            "text/html": [
              "\n",
              "  <div id=\"df-4fcb94bd-53fa-4eb9-9436-cd6a9c890f0b\">\n",
              "    <div class=\"colab-df-container\">\n",
              "      <div>\n",
              "<style scoped>\n",
              "    .dataframe tbody tr th:only-of-type {\n",
              "        vertical-align: middle;\n",
              "    }\n",
              "\n",
              "    .dataframe tbody tr th {\n",
              "        vertical-align: top;\n",
              "    }\n",
              "\n",
              "    .dataframe thead th {\n",
              "        text-align: right;\n",
              "    }\n",
              "</style>\n",
              "<table border=\"1\" class=\"dataframe\">\n",
              "  <thead>\n",
              "    <tr style=\"text-align: right;\">\n",
              "      <th></th>\n",
              "      <th>Song_name</th>\n",
              "      <th>Song_link</th>\n",
              "      <th>Cheering</th>\n",
              "      <th>Sad</th>\n",
              "      <th>In love</th>\n",
              "      <th>Motivated</th>\n",
              "      <th>Calm</th>\n",
              "    </tr>\n",
              "  </thead>\n",
              "  <tbody>\n",
              "    <tr>\n",
              "      <th>0</th>\n",
              "      <td>Ed Sheeran - Perfect</td>\n",
              "      <td>https://www.youtube.com/watch?v=2Vv-BfVoq4g</td>\n",
              "      <td>3.0</td>\n",
              "      <td>0.0</td>\n",
              "      <td>5.0</td>\n",
              "      <td>2.0</td>\n",
              "      <td>3.0</td>\n",
              "    </tr>\n",
              "    <tr>\n",
              "      <th>1</th>\n",
              "      <td>George Ezra - Budapest</td>\n",
              "      <td>https://www.youtube.com/watch?v=VHrLPs3_1Fs</td>\n",
              "      <td>1.0</td>\n",
              "      <td>0.0</td>\n",
              "      <td>5.0</td>\n",
              "      <td>2.0</td>\n",
              "      <td>4.0</td>\n",
              "    </tr>\n",
              "    <tr>\n",
              "      <th>2</th>\n",
              "      <td>Mark Ronson - Uptown Funk</td>\n",
              "      <td>https://www.youtube.com/watch?v=OPf0YbXqDm0</td>\n",
              "      <td>5.0</td>\n",
              "      <td>0.0</td>\n",
              "      <td>2.0</td>\n",
              "      <td>3.0</td>\n",
              "      <td>1.0</td>\n",
              "    </tr>\n",
              "    <tr>\n",
              "      <th>3</th>\n",
              "      <td>Maroon 5 - Sugar</td>\n",
              "      <td>https://www.youtube.com/watch?v=09R8_2nJtjg</td>\n",
              "      <td>5.0</td>\n",
              "      <td>0.0</td>\n",
              "      <td>4.0</td>\n",
              "      <td>4.0</td>\n",
              "      <td>1.0</td>\n",
              "    </tr>\n",
              "    <tr>\n",
              "      <th>4</th>\n",
              "      <td>The Lumineers - Sleep On The Floor</td>\n",
              "      <td>https://www.youtube.com/watch?v=v4pi1LxuDHc</td>\n",
              "      <td>1.0</td>\n",
              "      <td>4.0</td>\n",
              "      <td>4.0</td>\n",
              "      <td>1.0</td>\n",
              "      <td>4.0</td>\n",
              "    </tr>\n",
              "  </tbody>\n",
              "</table>\n",
              "</div>\n",
              "      <button class=\"colab-df-convert\" onclick=\"convertToInteractive('df-4fcb94bd-53fa-4eb9-9436-cd6a9c890f0b')\"\n",
              "              title=\"Convert this dataframe to an interactive table.\"\n",
              "              style=\"display:none;\">\n",
              "        \n",
              "  <svg xmlns=\"http://www.w3.org/2000/svg\" height=\"24px\"viewBox=\"0 0 24 24\"\n",
              "       width=\"24px\">\n",
              "    <path d=\"M0 0h24v24H0V0z\" fill=\"none\"/>\n",
              "    <path d=\"M18.56 5.44l.94 2.06.94-2.06 2.06-.94-2.06-.94-.94-2.06-.94 2.06-2.06.94zm-11 1L8.5 8.5l.94-2.06 2.06-.94-2.06-.94L8.5 2.5l-.94 2.06-2.06.94zm10 10l.94 2.06.94-2.06 2.06-.94-2.06-.94-.94-2.06-.94 2.06-2.06.94z\"/><path d=\"M17.41 7.96l-1.37-1.37c-.4-.4-.92-.59-1.43-.59-.52 0-1.04.2-1.43.59L10.3 9.45l-7.72 7.72c-.78.78-.78 2.05 0 2.83L4 21.41c.39.39.9.59 1.41.59.51 0 1.02-.2 1.41-.59l7.78-7.78 2.81-2.81c.8-.78.8-2.07 0-2.86zM5.41 20L4 18.59l7.72-7.72 1.47 1.35L5.41 20z\"/>\n",
              "  </svg>\n",
              "      </button>\n",
              "      \n",
              "  <style>\n",
              "    .colab-df-container {\n",
              "      display:flex;\n",
              "      flex-wrap:wrap;\n",
              "      gap: 12px;\n",
              "    }\n",
              "\n",
              "    .colab-df-convert {\n",
              "      background-color: #E8F0FE;\n",
              "      border: none;\n",
              "      border-radius: 50%;\n",
              "      cursor: pointer;\n",
              "      display: none;\n",
              "      fill: #1967D2;\n",
              "      height: 32px;\n",
              "      padding: 0 0 0 0;\n",
              "      width: 32px;\n",
              "    }\n",
              "\n",
              "    .colab-df-convert:hover {\n",
              "      background-color: #E2EBFA;\n",
              "      box-shadow: 0px 1px 2px rgba(60, 64, 67, 0.3), 0px 1px 3px 1px rgba(60, 64, 67, 0.15);\n",
              "      fill: #174EA6;\n",
              "    }\n",
              "\n",
              "    [theme=dark] .colab-df-convert {\n",
              "      background-color: #3B4455;\n",
              "      fill: #D2E3FC;\n",
              "    }\n",
              "\n",
              "    [theme=dark] .colab-df-convert:hover {\n",
              "      background-color: #434B5C;\n",
              "      box-shadow: 0px 1px 3px 1px rgba(0, 0, 0, 0.15);\n",
              "      filter: drop-shadow(0px 1px 2px rgba(0, 0, 0, 0.3));\n",
              "      fill: #FFFFFF;\n",
              "    }\n",
              "  </style>\n",
              "\n",
              "      <script>\n",
              "        const buttonEl =\n",
              "          document.querySelector('#df-4fcb94bd-53fa-4eb9-9436-cd6a9c890f0b button.colab-df-convert');\n",
              "        buttonEl.style.display =\n",
              "          google.colab.kernel.accessAllowed ? 'block' : 'none';\n",
              "\n",
              "        async function convertToInteractive(key) {\n",
              "          const element = document.querySelector('#df-4fcb94bd-53fa-4eb9-9436-cd6a9c890f0b');\n",
              "          const dataTable =\n",
              "            await google.colab.kernel.invokeFunction('convertToInteractive',\n",
              "                                                     [key], {});\n",
              "          if (!dataTable) return;\n",
              "\n",
              "          const docLinkHtml = 'Like what you see? Visit the ' +\n",
              "            '<a target=\"_blank\" href=https://colab.research.google.com/notebooks/data_table.ipynb>data table notebook</a>'\n",
              "            + ' to learn more about interactive tables.';\n",
              "          element.innerHTML = '';\n",
              "          dataTable['output_type'] = 'display_data';\n",
              "          await google.colab.output.renderOutput(dataTable, element);\n",
              "          const docLink = document.createElement('div');\n",
              "          docLink.innerHTML = docLinkHtml;\n",
              "          element.appendChild(docLink);\n",
              "        }\n",
              "      </script>\n",
              "    </div>\n",
              "  </div>\n",
              "  "
            ]
          },
          "metadata": {},
          "execution_count": 593
        }
      ]
    },
    {
      "cell_type": "code",
      "source": [
        "#the program\n",
        "#take the input\n",
        "cheer_val, sad_val,love_val,mot_val,calm_val =input(\"Enter your percentage for each category (Cheering,Sad,In Love,Motivated,Calm) from 1 to 5:\").split()\n",
        "cheer_val, sad_val,love_val,mot_val,calm_val= float(cheer_val),float(sad_val),float(love_val),float(mot_val),float(calm_val)\n",
        "if cheer_val <=5 and sad_val <=5 and love_val <=5 and mot_val<=5 and calm_val<=5:\n",
        "  print(\"Cheering percantage :\", cheer_val)\n",
        "  print(\"Sad percantage :\", sad_val)\n",
        "  print(\"In love percantage :\", love_val)\n",
        "  print(\"Motivated percantage :\", mot_val)\n",
        "  print(\"Calm percantage :\", calm_val)\n",
        "  #find the closest song to the user feelings \n",
        "  for index, row in merged_df.iterrows():\n",
        "    merged_df.loc[index,'dist'] =np.sqrt((cheer_val - merged_df.loc[index,'Cheering'])**2 + (sad_val- merged_df.loc[index,'Sad'])**2+ (love_val- merged_df.loc[index,'In love'])**2+ (mot_val- merged_df.loc[index,'Motivated'])**2+ (calm_val- merged_df.loc[index,'Calm'])**2).round(4) \n",
        "  sorted_df = merged_df.sort_values('dist',ascending= False)\n",
        "  out_val=sorted_df[['Song_name','Song_link']].head(1).values[0]\n",
        "  out_df = pd.DataFrame(columns=['Case','Output'])\n",
        "  var = {cheer_val:\"Cheering\",sad_val:\"Sad\",love_val:\"In love\",mot_val:'Motivated',calm_val:'Calm'}\n",
        "  case_val=var.get(max(var))\n",
        "  out_df.loc[0,'Case'] =case_val\n",
        "  out_df.loc[1,'Case'] =case_val\n",
        "  out_df['Output']=out_val\n",
        "  print('Songs recommendation\\n \\n',out_df)\n",
        "else:\n",
        "  print('The percantage score must not exceed 5')"
      ],
      "metadata": {
        "colab": {
          "base_uri": "https://localhost:8080/"
        },
        "id": "lMQBe0x6TSJQ",
        "outputId": "997db038-2bbb-4793-9fc3-aed6d444b1de"
      },
      "id": "lMQBe0x6TSJQ",
      "execution_count": null,
      "outputs": [
        {
          "output_type": "stream",
          "name": "stdout",
          "text": [
            "Enter your percentage for each category (Cheering,Sad,In Love,Motivated,Calm) from 1 to 5:5 1 2 3 4\n",
            "Cheering percantage : 5.0\n",
            "Sad percantage : 1.0\n",
            "In love percantage : 2.0\n",
            "Motivated percantage : 3.0\n",
            "Calm percantage : 4.0\n",
            "Songs recommendation\n",
            " \n",
            "        Case                                       Output\n",
            "0  Cheering                            Linki Park - Numb\n",
            "1  Cheering  https://www.youtube.com/watch?v=kXYiU_JCYtU\n"
          ]
        }
      ]
    }
  ],
  "metadata": {
    "colab": {
      "collapsed_sections": [],
      "name": "Practice exercises for Pandas and NumPy.ipynb",
      "provenance": []
    },
    "kernelspec": {
      "display_name": "Python 3 (ipykernel)",
      "language": "python",
      "name": "python3"
    },
    "language_info": {
      "codemirror_mode": {
        "name": "ipython",
        "version": 3
      },
      "file_extension": ".py",
      "mimetype": "text/x-python",
      "name": "python",
      "nbconvert_exporter": "python",
      "pygments_lexer": "ipython3",
      "version": "3.9.7"
    }
  },
  "nbformat": 4,
  "nbformat_minor": 5
}